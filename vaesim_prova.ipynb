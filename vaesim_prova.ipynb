{
 "cells": [
  {
   "cell_type": "code",
   "execution_count": 1,
   "id": "4b99b042",
   "metadata": {},
   "outputs": [
    {
     "name": "stderr",
     "output_type": "stream",
     "text": [
      "Failed to detect the name of this notebook, you can set it manually with the WANDB_NOTEBOOK_NAME environment variable to enable code saving.\n",
      "\u001b[34m\u001b[1mwandb\u001b[0m: Currently logged in as: \u001b[33mmatteoferrante\u001b[0m (use `wandb login --relogin` to force relogin)\n"
     ]
    },
    {
     "data": {
      "text/plain": [
       "'TO DO decidere il metodo di aggiornamento della matrice S (gradiente o update manuale?)\\ndecidere il metodo di inizializzazione della matrice S gaussiane? punti fissi?'"
      ]
     },
     "execution_count": 1,
     "metadata": {},
     "output_type": "execute_result"
    }
   ],
   "source": [
    "import torch\n",
    "import numpy as np\n",
    "from torch import nn\n",
    "import matplotlib.pyplot as plt\n",
    "from classes.Architectures import VAEDecoder, VAEEncoder, Discriminator,cVAEDecoder\n",
    "\n",
    "from torch.utils.data import DataLoader, Dataset\n",
    "from torchvision.datasets import MNIST\n",
    "from torchvision.transforms import Compose,ToTensor,Resize,PILToTensor\n",
    "\n",
    "from torch import distributions as D\n",
    "import wandb\n",
    "\n",
    "from imutils import paths\n",
    "import matplotlib.pyplot as plt\n",
    "import tqdm\n",
    "from utils.callbacks import *\n",
    "\n",
    "import os\n",
    "\n",
    "wandb.login()\n",
    "\n",
    "\"\"\"TO DO decidere il metodo di aggiornamento della matrice S (gradiente o update manuale?)\n",
    "decidere il metodo di inizializzazione della matrice S gaussiane? punti fissi?\"\"\"\n",
    "\n"
   ]
  },
  {
   "cell_type": "code",
   "execution_count": 2,
   "id": "f3013059",
   "metadata": {},
   "outputs": [],
   "source": [
    "class VAESIM(nn.Module):\n",
    "\n",
    "\n",
    "    def __init__(self, input_dim, latent_dim,weight=None, encoder_architecture=[(0,128),[(0,256)]], decoder_architecture=[(0,128),[(0,256)]],n_basis=10):\n",
    "        \"\"\"\n",
    "\n",
    "        :param input_dim: dimension of images\n",
    "        :param latent_dim: latent_dim\n",
    "\n",
    "        Attributes\n",
    "        ----------\n",
    "        total_loss_tracker: mean of the sum of reconstruction_loss and kl_loss\n",
    "        reconstruction_loss: mean metrics that are L2 norm between input and outputs\n",
    "        encoder_architecture: list of tuple, len of list is the number of blocks, [(n_block_res,n_filters)..]\n",
    "        decoder_architecture: list of tuple, len of list is the number of blocks, [(n_block_res,n_filters)..]\n",
    "        kl_loss: regularizer loss\n",
    "\n",
    "\n",
    "\n",
    "        \"\"\"\n",
    "        super().__init__()\n",
    "\n",
    "\n",
    "        self.input_dim=input_dim\n",
    "        self.latent_dim=latent_dim\n",
    "        self.encoder_architecture=encoder_architecture\n",
    "        self.decoder_architecture=decoder_architecture\n",
    "\n",
    "        if weight is None:\n",
    "            self.weight=latent_dim/np.prod(input_dim)\n",
    "        else:\n",
    "            self.weight=weight\n",
    "\n",
    "        self.encoder = VAEEncoder( latent_dim=latent_dim,  conv_layer_list=encoder_architecture)\n",
    "        self.decoder = cVAEDecoder(self.input_dim, latent_dim=latent_dim,  conv_layer_list=decoder_architecture,condition_dim=n_basis)\n",
    "\n",
    "        self.kl_loss=0\n",
    "        self.recon_loss=nn.MSELoss()\n",
    "        self.loss=None\n",
    "\n",
    "        self.patience=0 #for early stopping\n",
    "        self.device=None\n",
    "\n",
    "        self.n_basis=n_basis\n",
    "        self.spacing=3\n",
    "        self.basis_mean=torch.arange(0,n_basis)*self.spacing\n",
    "        \n",
    "        self.basis=None\n",
    "        \n",
    "        \n",
    "    \n",
    "    def clustering(self,z):\n",
    "        \"\"\"\n",
    "            @param z: Tensor\n",
    "            \n",
    "            returns: tensor of cluster, similarity matrix\n",
    "        \"\"\"\n",
    "        sim= z@self.basis\n",
    "        cl=sim.argmax(-1)\n",
    "        return cl,sim\n",
    "        \n",
    "        \n",
    "        \n",
    "        \n",
    "    def sample(self,z_mean,z_log_var):\n",
    "        epsilon = torch.randn_like(z_mean)\n",
    "        return z_mean + torch.exp(z_log_var/2.) * epsilon\n",
    "\n",
    "\n",
    "    \n",
    "    def reconstruct_and_cluster(self,x):\n",
    "        \n",
    "        z_mean,z_log_var = self.encoder(x)\n",
    "        \n",
    "        self.q_z = D.normal.Normal(z_mean, torch.exp(0.5 * z_log_var))\n",
    "\n",
    "        device=z_mean.get_device()\n",
    "\n",
    "        # sample z from it\n",
    "        z = self.q_z.rsample()\n",
    "    \n",
    "        cluster,sim=self.clustering(z)\n",
    "        x = self.decoder(z,sim)\n",
    "        \n",
    "        return x, cluster,similarity\n",
    "    \n",
    "    \n",
    "    def forward(self, x):\n",
    "\n",
    "\n",
    "        z_mean,z_log_var = self.encoder(x)\n",
    "        \n",
    "        self.q_z = D.normal.Normal(z_mean, torch.exp(0.5 * z_log_var))\n",
    "\n",
    "        device=z_mean.get_device()\n",
    "\n",
    "        # sample z from it\n",
    "        z = self.q_z.rsample()\n",
    "\n",
    "        #z=self.sample(z_mean,z_log_var)\n",
    "        \n",
    "        sim=self.compute_similarity(z)\n",
    "\n",
    "        self.z=z\n",
    "        self.z_mean,self.z_log_var=z_mean,z_log_var\n",
    "\n",
    "        # reference N(0,1)\n",
    "        ref_mu = torch.zeros(z.shape[0], z.shape[-1])\n",
    "        ref_sigma = torch.ones(z.shape[0], z.shape[-1])\n",
    "\n",
    "        self.p_z = D.normal.Normal(ref_mu.to(device), ref_sigma.to(device))\n",
    "\n",
    "        x = self.decoder(z,sim)\n",
    "\n",
    "        return x\n",
    "\n",
    "    def update_cluster_means(self,sim):\n",
    "        \n",
    "            \n",
    "        ##map each vector into his cluster\n",
    "        cl=sim.argmax(-1)\n",
    "        \n",
    "        #update the basis matrix columns according to the mean of the vector that belongs to that cluster\n",
    "        for i in range(self.n_basis):\n",
    "            self.basis[:,i]=z[cl==i].mean(axis=0)\n",
    "        \n",
    "        \n",
    "        return cl\n",
    "\n",
    "    \n",
    "    def init_clusters(self):\n",
    "        print(\"Init basis\")\n",
    "        self.basis=torch.randn(self.latent_dim,self.n_basis).requires_grad_(False)\n",
    "        \n",
    "            \n",
    "            \n",
    "            \n",
    "    def compute_similarity(self,z):\n",
    "        \"\"\"compute the similarity between each sample and the mean vector of the cluster\"\"\"\n",
    "        \n",
    "        ## TO DO MATRIX RAPRESENTATION\n",
    "        \n",
    "        ### TO DO BETTER INIT\n",
    "        if  self.basis is None:\n",
    "            self.init_clusters()\n",
    "        \n",
    "        sim= z@self.basis.type_as(z)\n",
    "        means=self.update_cluster_means(sim)\n",
    "\n",
    "        \n",
    "        return sim.detach()\n",
    "    \n",
    "    def compute_kl_loss(self):\n",
    "\n",
    "        #log_qzx = self.q_z.log_prob(self.z)\n",
    "        #log_pz =  self.p_z.log_prob(self.z)\n",
    "\n",
    "        # kl\n",
    "        #kl = -(log_qzx - log_pz)\n",
    "        #kl = kl.sum(-1)\n",
    "\n",
    "        kl_div = torch.mean(D.kl_divergence(self.q_z, self.p_z))\n",
    "        #kl_div=-0.5 * torch.sum(1 + self.z_log_var - self.z_mean.pow(2) - self.z_log_var.exp())\n",
    "        return self.weight*kl_div\n",
    "\n",
    "    def compute_reconstruction_loss(self, y_pred, y):\n",
    "        return self.recon_loss(y_pred, y)\n",
    "\n",
    "    def compute_loss(self, y_pred, y):\n",
    "        recon_loss = self.compute_reconstruction_loss(y_pred, y)\n",
    "        kl_loss = self.compute_kl_loss()\n",
    "\n",
    "        self.loss = recon_loss + kl_loss\n",
    "\n",
    "        return self.loss, recon_loss, kl_loss\n",
    "\n",
    "\n",
    "    def fit(self,train_dataloader,val_dataloader=None,epochs=10,optimizer=None,device=\"cuda\",wandb_log=True,save_model=None,early_stop=None):\n",
    "\n",
    "        \"\"\"Main train loop. The logic is all under model.train().\n",
    "        After the training epoch there is validation loop and some \"callbacks\" to store weights, save outputs to W&B and visualize it\n",
    "\n",
    "\n",
    "        \"\"\"\n",
    "\n",
    "        self.device=device #set in memory the device type\n",
    "        model=self\n",
    "\n",
    "        loss_history = []\n",
    "        recon_loss_history = []\n",
    "        kl_loss_history = []\n",
    "\n",
    "        val_loss_history = []\n",
    "        val_recon_loss_history = []\n",
    "        val_kl_loss_history = []\n",
    "\n",
    "        for epoch in range(epochs):\n",
    "\n",
    "            # just store loss and accuracy for this epoch\n",
    "\n",
    "            loss_temp = []\n",
    "            recon_loss_temp = []\n",
    "            kl_loss_temp = []\n",
    "\n",
    "            model.train()\n",
    "            with tqdm.tqdm(train_dataloader, unit=\"batch\") as tepoch:\n",
    "\n",
    "                tepoch.set_description(f\"Epoch {epoch}\")\n",
    "                for batch in tepoch:\n",
    "                    # get the data and pass them to device\n",
    "\n",
    "                    if len(batch)==2:\n",
    "                        x,y=batch\n",
    "                    else:\n",
    "                        x = batch\n",
    "\n",
    "\n",
    "\n",
    "                    x = x.to(device)\n",
    "\n",
    "                    # compute the loss\n",
    "                    x_pred = model(x)\n",
    "\n",
    "                    loss, recon_loss, kl_loss = model.compute_loss(x_pred, x)\n",
    "\n",
    "                    # backpropagate\n",
    "                    optimizer.zero_grad()\n",
    "                    loss.backward()\n",
    "                    optimizer.step()\n",
    "\n",
    "                    loss_temp.append(loss.item())\n",
    "                    recon_loss_temp.append(recon_loss.item())\n",
    "                    kl_loss_temp.append(kl_loss.item())\n",
    "\n",
    "                    tepoch.set_postfix(loss=loss.item(), recon_loss=recon_loss.item(), kl_loss=kl_loss.item())\n",
    "\n",
    "            # store the metrics for epochs\n",
    "            loss_history.append(np.mean(loss_temp))\n",
    "            recon_loss_history.append(np.mean(recon_loss_temp))\n",
    "            kl_loss_history.append(np.mean(kl_loss_temp))\n",
    "\n",
    "            if wandb_log:\n",
    "                wandb.log({\"loss\": loss_history[-1], \"recon_loss\": recon_loss_history[-1], \"kl_loss\": kl_loss_history[-1]})\n",
    "\n",
    "            if val_dataloader is not None:\n",
    "                val_loss_temp = []\n",
    "                val_recon_loss_temp = []\n",
    "                val_kl_loss_temp = []\n",
    "\n",
    "                model.eval()\n",
    "                with tqdm.tqdm(val_dataloader, unit=\"batch\") as tepoch:\n",
    "\n",
    "                    tepoch.set_description(f\"Val {epoch}\")\n",
    "                    for batch in tepoch:\n",
    "                        # get the data and pass them to device\n",
    "\n",
    "                        if len(batch) == 2:\n",
    "                            x, y = batch\n",
    "                        else:\n",
    "                            x = batch\n",
    "                        x = x.to(device)\n",
    "\n",
    "                        # compute the loss\n",
    "                        x_pred = model(x)\n",
    "\n",
    "                        val_loss, val_recon_loss, val_kl_loss = model.compute_loss(x_pred, x)\n",
    "\n",
    "                        # store info\n",
    "                        val_loss_temp.append(val_loss.item())\n",
    "                        val_recon_loss_temp.append(val_recon_loss.item())\n",
    "                        val_kl_loss_temp.append(val_kl_loss.item())\n",
    "\n",
    "                        tepoch.set_postfix(val_loss=val_loss.item(), val_recon_loss=recon_loss.item(),\n",
    "                                           val_kl_loss=kl_loss.item())\n",
    "                    ##handle callbacks\n",
    "\n",
    "\n",
    "\n",
    "                # store the metrics for validation epochs\n",
    "                val_loss_history.append(np.mean(val_loss_temp))\n",
    "                val_recon_loss_history.append(np.mean(val_recon_loss_temp))\n",
    "                val_kl_loss_history.append(np.mean(val_kl_loss_temp))\n",
    "\n",
    "                if early_stop is not None:\n",
    "                    if len(val_loss_history)>2:\n",
    "                        if val_loss_history[-1]>val_loss_history[-2]:\n",
    "                            self.patience+=1\n",
    "                    if self.patience==early_stop:\n",
    "                        print(\"[INFO] Early Stopping\")\n",
    "                        break\n",
    "\n",
    "                if wandb_log:\n",
    "\n",
    "                    wandb.log({\"val_loss\": val_loss_history[-1], \"val_recon_loss\": val_recon_loss_history[-1],\n",
    "                               \"val_kl_loss\": val_kl_loss_history[-1]})\n",
    "\n",
    "                    WandbImagesSIMVAE(self, x,show=True)\n",
    "\n",
    "\n",
    "\n",
    "                if save_model is not None:\n",
    "                    SaveModel(self,save_model)\n",
    "\n",
    "    def encode(self,x):\n",
    "        return self.encoder(x)\n",
    "\n",
    "    def decode(self,z):\n",
    "        return self.decoder(z)\n"
   ]
  },
  {
   "cell_type": "code",
   "execution_count": 3,
   "id": "ed06b0d8",
   "metadata": {},
   "outputs": [],
   "source": [
    "encoder_architecture=[[0,64],[0,128]]\n",
    "decoder_architecture=[[0,64],[0,128]]\n",
    "\n",
    "n_basis=10\n",
    "latent_dim=50\n",
    "input_dim=(1,28,28)\n",
    "\n"
   ]
  },
  {
   "cell_type": "code",
   "execution_count": 4,
   "id": "1bec01a2",
   "metadata": {},
   "outputs": [
    {
     "data": {
      "text/html": [
       "\n",
       "                    Syncing run <strong><a href=\"https://wandb.ai/matteoferrante/NeuroGEN_Pytorch/runs/219sapf0\" target=\"_blank\">distinctive-serenity-206</a></strong> to <a href=\"https://wandb.ai/matteoferrante/NeuroGEN_Pytorch\" target=\"_blank\">Weights & Biases</a> (<a href=\"https://docs.wandb.com/integrations/jupyter.html\" target=\"_blank\">docs</a>).<br/>\n",
       "\n",
       "                "
      ],
      "text/plain": [
       "<IPython.core.display.HTML object>"
      ]
     },
     "metadata": {},
     "output_type": "display_data"
    },
    {
     "data": {
      "text/html": [
       "<button onClick=\"this.nextSibling.style.display='block';this.style.display='none';\">Display W&B run</button><iframe src=\"https://wandb.ai/matteoferrante/NeuroGEN_Pytorch/runs/219sapf0?jupyter=true\" style=\"border:none;width:100%;height:420px;display:none;\"></iframe>"
      ],
      "text/plain": [
       "<wandb.sdk.wandb_run.Run at 0x26c083c5a30>"
      ]
     },
     "execution_count": 4,
     "metadata": {},
     "output_type": "execute_result"
    }
   ],
   "source": [
    "EPOCHS=10\n",
    "BS=500\n",
    "INIT_LR=1e-4\n",
    "\n",
    "config={}\n",
    "config[\"epochs\"]=EPOCHS\n",
    "config[\"BS\"]=BS\n",
    "config[\"init_lr\"]=INIT_LR\n",
    "\n",
    "\n",
    "config={\"dataset\":\"MNIST\", \"type\":\"VAE\",\"encoder_architecture\":encoder_architecture,\"decoder_architecture\":decoder_architecture}\n",
    "config[\"latent_dim\"]=latent_dim\n",
    "config[\"input_dim\"]=input_dim\n",
    "\n",
    "wandb.init(project=\"NeuroGEN_Pytorch\",config=config)"
   ]
  },
  {
   "cell_type": "markdown",
   "id": "5d977867",
   "metadata": {},
   "source": [
    "## Dataloaders"
   ]
  },
  {
   "cell_type": "code",
   "execution_count": 5,
   "id": "68059990",
   "metadata": {},
   "outputs": [],
   "source": [
    "transform=Compose([ToTensor()])\n",
    "\n",
    "train_dataset=MNIST('mnist_train', train=True, download=True,\n",
    "                             transform=transform)\n",
    "test_dataset=MNIST('mnist_test', train=False, download=True,\n",
    "                             transform=transform)\n"
   ]
  },
  {
   "cell_type": "code",
   "execution_count": 6,
   "id": "295d888a",
   "metadata": {},
   "outputs": [],
   "source": [
    "train_dataloader=DataLoader(train_dataset,batch_size=BS,shuffle=True)\n",
    "test_dataloader=DataLoader(test_dataset,batch_size=BS,shuffle=True)\n"
   ]
  },
  {
   "cell_type": "markdown",
   "id": "faeabc30",
   "metadata": {},
   "source": [
    "## Train Loop"
   ]
  },
  {
   "cell_type": "code",
   "execution_count": 7,
   "id": "1d578b29",
   "metadata": {},
   "outputs": [],
   "source": [
    "base_path=\"models/vaesim_mnist\"\n",
    "os.makedirs(base_path,exist_ok=True)"
   ]
  },
  {
   "cell_type": "code",
   "execution_count": 8,
   "id": "34b68351",
   "metadata": {},
   "outputs": [
    {
     "name": "stdout",
     "output_type": "stream",
     "text": [
      "Using cuda:0 device\n"
     ]
    }
   ],
   "source": [
    "# Get cpu or gpu device for training.\n",
    "device = \"cuda:0\" if torch.cuda.is_available() else \"cpu\"\n",
    "print(f\"Using {device} device\")"
   ]
  },
  {
   "cell_type": "code",
   "execution_count": 9,
   "id": "6f3fb427",
   "metadata": {},
   "outputs": [
    {
     "data": {
      "text/html": [
       "Finishing last run (ID:219sapf0) before initializing another..."
      ],
      "text/plain": [
       "<IPython.core.display.HTML object>"
      ]
     },
     "metadata": {},
     "output_type": "display_data"
    },
    {
     "data": {
      "text/html": [
       "<br/>Waiting for W&B process to finish, PID 13872... <strong style=\"color:green\">(success).</strong>"
      ],
      "text/plain": [
       "<IPython.core.display.HTML object>"
      ]
     },
     "metadata": {},
     "output_type": "display_data"
    },
    {
     "data": {
      "application/vnd.jupyter.widget-view+json": {
       "model_id": "",
       "version_major": 2,
       "version_minor": 0
      },
      "text/plain": [
       "VBox(children=(Label(value=' 0.35MB of 0.35MB uploaded (0.00MB deduped)\\r'), FloatProgress(value=1.0, max=1.0)…"
      ]
     },
     "metadata": {},
     "output_type": "display_data"
    },
    {
     "data": {
      "text/html": [
       "<style>\n",
       "    table.wandb td:nth-child(1) { padding: 0 10px; text-align: right }\n",
       "    .wandb-row { display: flex; flex-direction: row; flex-wrap: wrap; width: 100% }\n",
       "    .wandb-col { display: flex; flex-direction: column; flex-basis: 100%; flex: 1; padding: 10px; }\n",
       "    </style>\n",
       "<div class=\"wandb-row\"><div class=\"wandb-col\">\n",
       "</div><div class=\"wandb-col\">\n",
       "</div></div>\n",
       "Synced 6 W&B file(s), 0 media file(s), 0 artifact file(s) and 1 other file(s)\n",
       "<br/>Synced <strong style=\"color:#cdcd00\">distinctive-serenity-206</strong>: <a href=\"https://wandb.ai/matteoferrante/NeuroGEN_Pytorch/runs/219sapf0\" target=\"_blank\">https://wandb.ai/matteoferrante/NeuroGEN_Pytorch/runs/219sapf0</a><br/>\n",
       "Find logs at: <code>.\\wandb\\run-20220119_154111-219sapf0\\logs</code><br/>\n"
      ],
      "text/plain": [
       "<IPython.core.display.HTML object>"
      ]
     },
     "metadata": {},
     "output_type": "display_data"
    },
    {
     "data": {
      "text/html": [
       "Successfully finished last run (ID:219sapf0). Initializing new run:<br/>"
      ],
      "text/plain": [
       "<IPython.core.display.HTML object>"
      ]
     },
     "metadata": {},
     "output_type": "display_data"
    },
    {
     "data": {
      "text/html": [
       "\n",
       "                    Syncing run <strong><a href=\"https://wandb.ai/matteoferrante/NeuroGEN_Pytorch/runs/3nsk2aaz\" target=\"_blank\">desert-bird-207</a></strong> to <a href=\"https://wandb.ai/matteoferrante/NeuroGEN_Pytorch\" target=\"_blank\">Weights & Biases</a> (<a href=\"https://docs.wandb.com/integrations/jupyter.html\" target=\"_blank\">docs</a>).<br/>\n",
       "\n",
       "                "
      ],
      "text/plain": [
       "<IPython.core.display.HTML object>"
      ]
     },
     "metadata": {},
     "output_type": "display_data"
    },
    {
     "data": {
      "text/html": [
       "<button onClick=\"this.nextSibling.style.display='block';this.style.display='none';\">Display W&B run</button><iframe src=\"https://wandb.ai/matteoferrante/NeuroGEN_Pytorch/runs/3nsk2aaz?jupyter=true\" style=\"border:none;width:100%;height:420px;display:none;\"></iframe>"
      ],
      "text/plain": [
       "<wandb.sdk.wandb_run.Run at 0x26c08413f10>"
      ]
     },
     "execution_count": 9,
     "metadata": {},
     "output_type": "execute_result"
    }
   ],
   "source": [
    "wandb.init(project=\"NeuroGEN_Pytorch\",config=config)"
   ]
  },
  {
   "cell_type": "code",
   "execution_count": 10,
   "id": "7629f942",
   "metadata": {},
   "outputs": [
    {
     "name": "stderr",
     "output_type": "stream",
     "text": [
      "C:\\Users\\matte\\anaconda3\\envs\\pytorch\\lib\\site-packages\\torch\\nn\\modules\\lazy.py:178: UserWarning: Lazy modules are a new feature under heavy development so changes to the API or functionality can happen at any moment.\n",
      "  warnings.warn('Lazy modules are a new feature under heavy development '\n"
     ]
    },
    {
     "data": {
      "text/plain": [
       "VAESIM(\n",
       "  (encoder): VAEEncoder(\n",
       "    (features): Sequential(\n",
       "      (0): ConvResBlock(\n",
       "        (conv): LazyConv2d(0, 64, kernel_size=(4, 4), stride=(2, 2), padding=(1, 1))\n",
       "        (residual_blocks): Sequential()\n",
       "      )\n",
       "      (1): ConvResBlock(\n",
       "        (conv): LazyConv2d(0, 128, kernel_size=(4, 4), stride=(2, 2), padding=(1, 1))\n",
       "        (residual_blocks): Sequential()\n",
       "      )\n",
       "    )\n",
       "    (flatten): Flatten(start_dim=1, end_dim=-1)\n",
       "    (mean): LazyLinear(in_features=0, out_features=50, bias=True)\n",
       "    (logvariance): LazyLinear(in_features=0, out_features=50, bias=True)\n",
       "  )\n",
       "  (decoder): cVAEDecoder(\n",
       "    (predecoder): Linear(in_features=50, out_features=3136, bias=True)\n",
       "    (unflatten): Unflatten(dim=1, unflattened_size=(64, 7, 7))\n",
       "    (condition): Linear(in_features=10, out_features=49, bias=True)\n",
       "    (condition2shape): Unflatten(dim=1, unflattened_size=(1, 7, 7))\n",
       "    (features): Sequential(\n",
       "      (0): ConvTransposeResBlock(\n",
       "        (conv): LazyConvTranspose2d(0, 64, kernel_size=(4, 4), stride=(2, 2), padding=(1, 1))\n",
       "        (activation): PReLU(num_parameters=1)\n",
       "        (residual_blocks): Sequential()\n",
       "      )\n",
       "      (1): ConvTransposeResBlock(\n",
       "        (conv): LazyConvTranspose2d(0, 128, kernel_size=(4, 4), stride=(2, 2), padding=(1, 1))\n",
       "        (activation): PReLU(num_parameters=1)\n",
       "        (residual_blocks): Sequential()\n",
       "      )\n",
       "    )\n",
       "    (decoder_output): LazyConvTranspose2d(0, 1, kernel_size=(3, 3), stride=(1, 1), padding=(1, 1))\n",
       "    (activation): Sigmoid()\n",
       "  )\n",
       "  (recon_loss): MSELoss()\n",
       ")"
      ]
     },
     "execution_count": 10,
     "metadata": {},
     "output_type": "execute_result"
    }
   ],
   "source": [
    "model=VAESIM(input_dim=input_dim,latent_dim=latent_dim,encoder_architecture=encoder_architecture,decoder_architecture=decoder_architecture,n_basis=n_basis)\n",
    "\n",
    "\n",
    "optimizer=torch.optim.Adam(model.parameters(),lr=INIT_LR)\n",
    "model.to(device)"
   ]
  },
  {
   "cell_type": "code",
   "execution_count": 11,
   "id": "a66e27ec-c39d-4278-8479-8281ff943cd1",
   "metadata": {},
   "outputs": [],
   "source": [
    "def mapping(cl,y):\n",
    "    \"\"\"map[k]=label so we map the cluster k-th to the label\"\"\"\n",
    "    \n",
    "    map={}\n",
    "    \n",
    "    acc={}\n",
    "    \n",
    "    for k in range(n_basis):\n",
    "        \n",
    "        v=y[cl==k].mode().values\n",
    "        map[k]=v\n",
    "        acc[k]=(y[cl==k]==v).sum()/len(y[cl==k]) \n",
    "        \n",
    "    return map,acc"
   ]
  },
  {
   "cell_type": "code",
   "execution_count": 12,
   "id": "72753776",
   "metadata": {},
   "outputs": [
    {
     "name": "stdout",
     "output_type": "stream",
     "text": [
      "Init basis\n"
     ]
    }
   ],
   "source": [
    "### PROVe\n",
    "\n",
    "x,y=next(iter(train_dataloader))\n",
    "\n",
    "x=x.to(device)\n",
    "\n",
    "model.init_clusters()"
   ]
  },
  {
   "cell_type": "code",
   "execution_count": 13,
   "id": "7937ea46",
   "metadata": {},
   "outputs": [
    {
     "name": "stdout",
     "output_type": "stream",
     "text": [
      "EPOCH: 0\n",
      "ECCOLO 0\n",
      "\n",
      "\n"
     ]
    },
    {
     "data": {
      "image/png": "[encoded data removed]",
      "text/plain": [
       "<Figure size 432x288 with 1 Axes>"
      ]
     },
     "metadata": {
      "needs_background": "light"
     },
     "output_type": "display_data"
    },
    {
     "name": "stdout",
     "output_type": "stream",
     "text": [
      "{0: tensor(1), 1: tensor(7), 2: tensor(1), 3: tensor(2), 4: tensor(4), 5: tensor(2), 6: tensor(3), 7: tensor(3), 8: tensor(7), 9: tensor(5)}\n",
      "{0: tensor(0.1389), 1: tensor(0.2353), 2: tensor(0.1695), 3: tensor(0.1463), 4: tensor(0.1400), 5: tensor(0.1346), 6: tensor(0.1351), 7: tensor(0.2059), 8: tensor(0.1667), 9: tensor(0.1600)}\n",
      "ECCOLO 30\n",
      "\n",
      "\n"
     ]
    },
    {
     "data": {
      "image/png": "[encoded data removed]",
      "text/plain": [
       "<Figure size 432x288 with 1 Axes>"
      ]
     },
     "metadata": {
      "needs_background": "light"
     },
     "output_type": "display_data"
    },
    {
     "name": "stdout",
     "output_type": "stream",
     "text": [
      "{0: tensor(6), 1: tensor(1), 2: tensor(1), 3: tensor(3), 4: tensor(7), 5: tensor(2), 6: tensor(4), 7: tensor(2), 8: tensor(8), 9: tensor(8)}\n",
      "{0: tensor(0.2308), 1: tensor(0.1636), 2: tensor(0.1628), 3: tensor(0.1905), 4: tensor(0.2037), 5: tensor(0.2727), 6: tensor(0.2424), 7: tensor(0.1692), 8: tensor(0.1818), 9: tensor(0.1923)}\n",
      "ECCOLO 60\n",
      "\n",
      "\n"
     ]
    },
    {
     "data": {
      "image/png": "[encoded data removed]",
      "text/plain": [
       "<Figure size 432x288 with 1 Axes>"
      ]
     },
     "metadata": {
      "needs_background": "light"
     },
     "output_type": "display_data"
    },
    {
     "name": "stdout",
     "output_type": "stream",
     "text": [
      "{0: tensor(0), 1: tensor(1), 2: tensor(4), 3: tensor(3), 4: tensor(9), 5: tensor(7), 6: tensor(1), 7: tensor(1), 8: tensor(0), 9: tensor(3)}\n",
      "{0: tensor(0.3471), 1: tensor(0.3684), 2: tensor(0.2857), 3: tensor(0.2105), 4: tensor(0.1528), 5: tensor(0.2143), 6: tensor(0.2000), 7: tensor(0.2208), 8: tensor(0.3333), 9: tensor(0.2692)}\n",
      "ECCOLO 90\n",
      "\n",
      "\n"
     ]
    },
    {
     "data": {
      "image/png": "[encoded data removed]",
      "text/plain": [
       "<Figure size 432x288 with 1 Axes>"
      ]
     },
     "metadata": {
      "needs_background": "light"
     },
     "output_type": "display_data"
    },
    {
     "name": "stdout",
     "output_type": "stream",
     "text": [
      "{0: tensor(2), 1: tensor(4), 2: tensor(7), 3: tensor(6), 4: tensor(7), 5: tensor(7), 6: tensor(1), 7: tensor(1), 8: tensor(0), 9: tensor(3)}\n",
      "{0: tensor(0.4545), 1: tensor(0.2692), 2: tensor(0.2857), 3: tensor(0.4545), 4: tensor(0.3390), 5: tensor(0.2549), 6: tensor(0.2500), 7: tensor(0.5303), 8: tensor(0.5663), 9: tensor(0.3929)}\n",
      "EPOCH: 1\n",
      "ECCOLO 0\n",
      "\n",
      "\n"
     ]
    },
    {
     "data": {
      "image/png": "[encoded data removed]",
      "text/plain": [
       "<Figure size 432x288 with 1 Axes>"
      ]
     },
     "metadata": {
      "needs_background": "light"
     },
     "output_type": "display_data"
    },
    {
     "name": "stdout",
     "output_type": "stream",
     "text": [
      "{0: tensor(2), 1: tensor(4), 2: tensor(1), 3: tensor(6), 4: tensor(7), 5: tensor(8), 6: tensor(1), 7: tensor(1), 8: tensor(0), 9: tensor(3)}\n",
      "{0: tensor(0.5641), 1: tensor(0.4231), 2: tensor(0.4000), 3: tensor(0.5517), 4: tensor(0.4697), 5: tensor(0.3036), 6: tensor(0.3182), 7: tensor(0.4706), 8: tensor(0.6944), 9: tensor(0.3704)}\n",
      "ECCOLO 30\n",
      "\n",
      "\n"
     ]
    },
    {
     "data": {
      "image/png": "[encoded data removed]",
      "text/plain": [
       "<Figure size 432x288 with 1 Axes>"
      ]
     },
     "metadata": {
      "needs_background": "light"
     },
     "output_type": "display_data"
    },
    {
     "name": "stdout",
     "output_type": "stream",
     "text": [
      "{0: tensor(2), 1: tensor(4), 2: tensor(1), 3: tensor(6), 4: tensor(7), 5: tensor(5), 6: tensor(4), 7: tensor(1), 8: tensor(0), 9: tensor(3)}\n",
      "{0: tensor(0.4043), 1: tensor(0.4386), 2: tensor(0.4247), 3: tensor(0.5000), 4: tensor(0.4655), 5: tensor(0.3250), 6: tensor(0.3077), 7: tensor(0.5581), 8: tensor(0.6452), 9: tensor(0.4416)}\n",
      "ECCOLO 60\n",
      "\n",
      "\n"
     ]
    },
    {
     "data": {
      "image/png": "[encoded data removed]",
      "text/plain": [
       "<Figure size 432x288 with 1 Axes>"
      ]
     },
     "metadata": {
      "needs_background": "light"
     },
     "output_type": "display_data"
    },
    {
     "name": "stdout",
     "output_type": "stream",
     "text": [
      "{0: tensor(2), 1: tensor(4), 2: tensor(1), 3: tensor(6), 4: tensor(7), 5: tensor(8), 6: tensor(5), 7: tensor(1), 8: tensor(0), 9: tensor(3)}\n",
      "{0: tensor(0.7447), 1: tensor(0.5870), 2: tensor(0.4848), 3: tensor(0.6207), 4: tensor(0.6207), 5: tensor(0.2444), 6: tensor(0.4286), 7: tensor(0.3953), 8: tensor(0.7308), 9: tensor(0.4366)}\n",
      "ECCOLO 90\n",
      "\n",
      "\n"
     ]
    },
    {
     "data": {
      "image/png": "[encoded data removed]",
      "text/plain": [
       "<Figure size 432x288 with 1 Axes>"
      ]
     },
     "metadata": {
      "needs_background": "light"
     },
     "output_type": "display_data"
    },
    {
     "name": "stdout",
     "output_type": "stream",
     "text": [
      "{0: tensor(2), 1: tensor(4), 2: tensor(1), 3: tensor(6), 4: tensor(7), 5: tensor(5), 6: tensor(9), 7: tensor(1), 8: tensor(0), 9: tensor(3)}\n",
      "{0: tensor(0.5682), 1: tensor(0.3968), 2: tensor(0.4857), 3: tensor(0.6038), 4: tensor(0.6308), 5: tensor(0.3077), 6: tensor(0.3030), 7: tensor(0.4912), 8: tensor(0.6557), 9: tensor(0.5400)}\n",
      "EPOCH: 2\n",
      "ECCOLO 0\n",
      "\n",
      "\n"
     ]
    },
    {
     "data": {
      "image/png": "[encoded data removed]",
      "text/plain": [
       "<Figure size 432x288 with 1 Axes>"
      ]
     },
     "metadata": {
      "needs_background": "light"
     },
     "output_type": "display_data"
    },
    {
     "name": "stdout",
     "output_type": "stream",
     "text": [
      "{0: tensor(2), 1: tensor(4), 2: tensor(1), 3: tensor(6), 4: tensor(7), 5: tensor(8), 6: tensor(4), 7: tensor(1), 8: tensor(0), 9: tensor(3)}\n",
      "{0: tensor(0.7447), 1: tensor(0.3750), 2: tensor(0.4727), 3: tensor(0.7000), 4: tensor(0.5692), 5: tensor(0.3382), 6: tensor(0.4375), 7: tensor(0.7333), 8: tensor(0.6000), 9: tensor(0.3099)}\n",
      "ECCOLO 30\n",
      "\n",
      "\n"
     ]
    },
    {
     "data": {
      "image/png": "[encoded data removed]",
      "text/plain": [
       "<Figure size 432x288 with 1 Axes>"
      ]
     },
     "metadata": {
      "needs_background": "light"
     },
     "output_type": "display_data"
    },
    {
     "name": "stdout",
     "output_type": "stream",
     "text": [
      "{0: tensor(2), 1: tensor(4), 2: tensor(1), 3: tensor(6), 4: tensor(7), 5: tensor(8), 6: tensor(4), 7: tensor(1), 8: tensor(0), 9: tensor(3)}\n",
      "{0: tensor(0.7368), 1: tensor(0.3878), 2: tensor(0.5769), 3: tensor(0.7333), 4: tensor(0.6154), 5: tensor(0.3898), 6: tensor(0.5750), 7: tensor(0.6296), 8: tensor(0.7778), 9: tensor(0.5789)}\n",
      "ECCOLO 60\n",
      "\n",
      "\n"
     ]
    },
    {
     "data": {
      "image/png": "[encoded data removed]",
      "text/plain": [
       "<Figure size 432x288 with 1 Axes>"
      ]
     },
     "metadata": {
      "needs_background": "light"
     },
     "output_type": "display_data"
    },
    {
     "name": "stdout",
     "output_type": "stream",
     "text": [
      "{0: tensor(2), 1: tensor(4), 2: tensor(1), 3: tensor(6), 4: tensor(7), 5: tensor(8), 6: tensor(7), 7: tensor(1), 8: tensor(0), 9: tensor(3)}\n",
      "{0: tensor(0.7021), 1: tensor(0.3778), 2: tensor(0.6000), 3: tensor(0.7727), 4: tensor(0.5942), 5: tensor(0.4407), 6: tensor(0.3333), 7: tensor(0.5897), 8: tensor(0.6909), 9: tensor(0.5000)}\n",
      "ECCOLO 90\n",
      "\n",
      "\n"
     ]
    },
    {
     "data": {
      "image/png": "[encoded data removed]",
      "text/plain": [
       "<Figure size 432x288 with 1 Axes>"
      ]
     },
     "metadata": {
      "needs_background": "light"
     },
     "output_type": "display_data"
    },
    {
     "name": "stdout",
     "output_type": "stream",
     "text": [
      "{0: tensor(2), 1: tensor(4), 2: tensor(1), 3: tensor(6), 4: tensor(7), 5: tensor(8), 6: tensor(9), 7: tensor(1), 8: tensor(0), 9: tensor(3)}\n",
      "{0: tensor(0.7143), 1: tensor(0.3784), 2: tensor(0.5263), 3: tensor(0.6122), 4: tensor(0.4769), 5: tensor(0.3636), 6: tensor(0.3684), 7: tensor(0.4565), 8: tensor(0.8200), 9: tensor(0.4583)}\n",
      "EPOCH: 3\n",
      "ECCOLO 0\n",
      "\n",
      "\n"
     ]
    },
    {
     "data": {
      "image/png": "[encoded data removed]",
      "text/plain": [
       "<Figure size 432x288 with 1 Axes>"
      ]
     },
     "metadata": {
      "needs_background": "light"
     },
     "output_type": "display_data"
    },
    {
     "name": "stdout",
     "output_type": "stream",
     "text": [
      "{0: tensor(2), 1: tensor(4), 2: tensor(1), 3: tensor(6), 4: tensor(7), 5: tensor(8), 6: tensor(7), 7: tensor(1), 8: tensor(0), 9: tensor(3)}\n",
      "{0: tensor(0.6207), 1: tensor(0.3846), 2: tensor(0.7273), 3: tensor(0.8077), 4: tensor(0.3750), 5: tensor(0.4737), 6: tensor(0.3846), 7: tensor(0.3571), 8: tensor(0.7174), 9: tensor(0.5185)}\n",
      "ECCOLO 30\n",
      "\n",
      "\n"
     ]
    },
    {
     "data": {
      "image/png": "[encoded data removed]",
      "text/plain": [
       "<Figure size 432x288 with 1 Axes>"
      ]
     },
     "metadata": {
      "needs_background": "light"
     },
     "output_type": "display_data"
    },
    {
     "name": "stdout",
     "output_type": "stream",
     "text": [
      "{0: tensor(2), 1: tensor(4), 2: tensor(1), 3: tensor(6), 4: tensor(7), 5: tensor(8), 6: tensor(7), 7: tensor(1), 8: tensor(0), 9: tensor(3)}\n",
      "{0: tensor(0.7333), 1: tensor(0.4375), 2: tensor(0.7250), 3: tensor(0.6047), 4: tensor(0.3953), 5: tensor(0.4030), 6: tensor(0.3676), 7: tensor(0.5652), 8: tensor(0.7391), 9: tensor(0.5143)}\n",
      "ECCOLO 60\n",
      "\n",
      "\n"
     ]
    },
    {
     "data": {
      "image/png": "[encoded data removed]",
      "text/plain": [
       "<Figure size 432x288 with 1 Axes>"
      ]
     },
     "metadata": {
      "needs_background": "light"
     },
     "output_type": "display_data"
    },
    {
     "name": "stdout",
     "output_type": "stream",
     "text": [
      "{0: tensor(2), 1: tensor(9), 2: tensor(1), 3: tensor(6), 4: tensor(7), 5: tensor(8), 6: tensor(7), 7: tensor(1), 8: tensor(0), 9: tensor(3)}\n",
      "{0: tensor(0.7500), 1: tensor(0.3673), 2: tensor(0.4667), 3: tensor(0.6207), 4: tensor(0.5098), 5: tensor(0.3696), 6: tensor(0.4186), 7: tensor(0.5000), 8: tensor(0.6765), 9: tensor(0.4516)}\n",
      "ECCOLO 90\n",
      "\n",
      "\n"
     ]
    },
    {
     "data": {
      "image/png": "[encoded data removed]",
      "text/plain": [
       "<Figure size 432x288 with 1 Axes>"
      ]
     },
     "metadata": {
      "needs_background": "light"
     },
     "output_type": "display_data"
    },
    {
     "name": "stdout",
     "output_type": "stream",
     "text": [
      "{0: tensor(2), 1: tensor(4), 2: tensor(1), 3: tensor(6), 4: tensor(7), 5: tensor(8), 6: tensor(7), 7: tensor(1), 8: tensor(0), 9: tensor(3)}\n",
      "{0: tensor(0.6800), 1: tensor(0.4364), 2: tensor(0.4833), 3: tensor(0.6429), 4: tensor(0.4667), 5: tensor(0.5263), 6: tensor(0.4211), 7: tensor(0.4412), 8: tensor(0.7042), 9: tensor(0.3750)}\n",
      "EPOCH: 4\n",
      "ECCOLO 0\n",
      "\n",
      "\n"
     ]
    },
    {
     "data": {
      "image/png": "[encoded data removed]",
      "text/plain": [
       "<Figure size 432x288 with 1 Axes>"
      ]
     },
     "metadata": {
      "needs_background": "light"
     },
     "output_type": "display_data"
    },
    {
     "name": "stdout",
     "output_type": "stream",
     "text": [
      "{0: tensor(2), 1: tensor(4), 2: tensor(1), 3: tensor(6), 4: tensor(7), 5: tensor(0), 6: tensor(9), 7: tensor(1), 8: tensor(0), 9: tensor(3)}\n",
      "{0: tensor(0.7451), 1: tensor(0.5455), 2: tensor(0.5970), 3: tensor(0.4894), 4: tensor(0.4697), 5: tensor(0.2195), 6: tensor(0.3404), 7: tensor(0.6667), 8: tensor(0.6047), 9: tensor(0.4697)}\n",
      "ECCOLO 30\n",
      "\n",
      "\n"
     ]
    },
    {
     "data": {
      "image/png": "[encoded data removed]",
      "text/plain": [
       "<Figure size 432x288 with 1 Axes>"
      ]
     },
     "metadata": {
      "needs_background": "light"
     },
     "output_type": "display_data"
    },
    {
     "name": "stdout",
     "output_type": "stream",
     "text": [
      "{0: tensor(2), 1: tensor(4), 2: tensor(1), 3: tensor(6), 4: tensor(9), 5: tensor(5), 6: tensor(7), 7: tensor(1), 8: tensor(0), 9: tensor(3)}\n",
      "{0: tensor(0.7045), 1: tensor(0.4694), 2: tensor(0.6170), 3: tensor(0.6800), 4: tensor(0.2727), 5: tensor(0.2642), 6: tensor(0.3137), 7: tensor(0.4884), 8: tensor(0.6000), 9: tensor(0.3623)}\n",
      "ECCOLO 60\n",
      "\n",
      "\n"
     ]
    },
    {
     "data": {
      "image/png": "[encoded data removed]",
      "text/plain": [
       "<Figure size 432x288 with 1 Axes>"
      ]
     },
     "metadata": {
      "needs_background": "light"
     },
     "output_type": "display_data"
    },
    {
     "name": "stdout",
     "output_type": "stream",
     "text": [
      "{0: tensor(2), 1: tensor(4), 2: tensor(1), 3: tensor(6), 4: tensor(7), 5: tensor(0), 6: tensor(7), 7: tensor(1), 8: tensor(0), 9: tensor(3)}\n",
      "{0: tensor(0.6531), 1: tensor(0.5185), 2: tensor(0.5000), 3: tensor(0.5781), 4: tensor(0.3571), 5: tensor(0.2941), 6: tensor(0.6522), 7: tensor(0.6304), 8: tensor(0.7755), 9: tensor(0.5667)}\n",
      "ECCOLO 90\n",
      "\n",
      "\n"
     ]
    },
    {
     "data": {
      "image/png": "[encoded data removed]",
      "text/plain": [
       "<Figure size 432x288 with 1 Axes>"
      ]
     },
     "metadata": {
      "needs_background": "light"
     },
     "output_type": "display_data"
    },
    {
     "name": "stdout",
     "output_type": "stream",
     "text": [
      "{0: tensor(2), 1: tensor(4), 2: tensor(1), 3: tensor(6), 4: tensor(7), 5: tensor(6), 6: tensor(7), 7: tensor(1), 8: tensor(0), 9: tensor(3)}\n",
      "{0: tensor(0.5946), 1: tensor(0.4074), 2: tensor(0.5600), 3: tensor(0.6383), 4: tensor(0.2885), 5: tensor(0.2727), 6: tensor(0.5455), 7: tensor(0.6346), 8: tensor(0.7143), 9: tensor(0.6167)}\n",
      "EPOCH: 5\n",
      "ECCOLO 0\n",
      "\n",
      "\n"
     ]
    },
    {
     "data": {
      "image/png": "[encoded data removed]",
      "text/plain": [
       "<Figure size 432x288 with 1 Axes>"
      ]
     },
     "metadata": {
      "needs_background": "light"
     },
     "output_type": "display_data"
    },
    {
     "name": "stdout",
     "output_type": "stream",
     "text": [
      "{0: tensor(2), 1: tensor(4), 2: tensor(1), 3: tensor(6), 4: tensor(7), 5: tensor(5), 6: tensor(7), 7: tensor(1), 8: tensor(0), 9: tensor(3)}\n",
      "{0: tensor(0.6111), 1: tensor(0.3750), 2: tensor(0.6000), 3: tensor(0.5455), 4: tensor(0.3778), 5: tensor(0.3000), 6: tensor(0.3774), 7: tensor(0.5532), 8: tensor(0.7170), 9: tensor(0.4474)}\n",
      "ECCOLO 30\n",
      "\n",
      "\n"
     ]
    },
    {
     "data": {
      "image/png": "[encoded data removed]",
      "text/plain": [
       "<Figure size 432x288 with 1 Axes>"
      ]
     },
     "metadata": {
      "needs_background": "light"
     },
     "output_type": "display_data"
    },
    {
     "name": "stdout",
     "output_type": "stream",
     "text": [
      "{0: tensor(2), 1: tensor(4), 2: tensor(1), 3: tensor(6), 4: tensor(7), 5: tensor(5), 6: tensor(7), 7: tensor(1), 8: tensor(0), 9: tensor(3)}\n",
      "{0: tensor(0.6957), 1: tensor(0.4038), 2: tensor(0.6047), 3: tensor(0.6809), 4: tensor(0.5909), 5: tensor(0.3830), 6: tensor(0.3239), 7: tensor(0.5588), 8: tensor(0.6471), 9: tensor(0.4615)}\n",
      "ECCOLO 60\n",
      "\n",
      "\n"
     ]
    },
    {
     "data": {
      "image/png": "[encoded data removed]",
      "text/plain": [
       "<Figure size 432x288 with 1 Axes>"
      ]
     },
     "metadata": {
      "needs_background": "light"
     },
     "output_type": "display_data"
    },
    {
     "name": "stdout",
     "output_type": "stream",
     "text": [
      "{0: tensor(2), 1: tensor(4), 2: tensor(1), 3: tensor(6), 4: tensor(7), 5: tensor(0), 6: tensor(7), 7: tensor(1), 8: tensor(0), 9: tensor(3)}\n",
      "{0: tensor(0.6458), 1: tensor(0.4074), 2: tensor(0.5806), 3: tensor(0.6981), 4: tensor(0.3871), 5: tensor(0.3056), 6: tensor(0.3800), 7: tensor(0.6667), 8: tensor(0.6087), 9: tensor(0.4000)}\n",
      "ECCOLO 90\n",
      "\n",
      "\n"
     ]
    },
    {
     "data": {
      "image/png": "[encoded data removed]",
      "text/plain": [
       "<Figure size 432x288 with 1 Axes>"
      ]
     },
     "metadata": {
      "needs_background": "light"
     },
     "output_type": "display_data"
    },
    {
     "name": "stdout",
     "output_type": "stream",
     "text": [
      "{0: tensor(2), 1: tensor(4), 2: tensor(1), 3: tensor(6), 4: tensor(7), 5: tensor(0), 6: tensor(7), 7: tensor(1), 8: tensor(0), 9: tensor(3)}\n",
      "{0: tensor(0.6053), 1: tensor(0.2727), 2: tensor(0.6923), 3: tensor(0.6316), 4: tensor(0.3281), 5: tensor(0.2000), 6: tensor(0.3333), 7: tensor(0.5789), 8: tensor(0.6458), 9: tensor(0.4348)}\n",
      "EPOCH: 6\n",
      "ECCOLO 0\n",
      "\n",
      "\n"
     ]
    },
    {
     "data": {
      "image/png": "[encoded data removed]",
      "text/plain": [
       "<Figure size 432x288 with 1 Axes>"
      ]
     },
     "metadata": {
      "needs_background": "light"
     },
     "output_type": "display_data"
    },
    {
     "name": "stdout",
     "output_type": "stream",
     "text": [
      "{0: tensor(2), 1: tensor(4), 2: tensor(1), 3: tensor(6), 4: tensor(7), 5: tensor(8), 6: tensor(7), 7: tensor(1), 8: tensor(0), 9: tensor(3)}\n",
      "{0: tensor(0.6383), 1: tensor(0.4000), 2: tensor(0.6500), 3: tensor(0.6735), 4: tensor(0.2963), 5: tensor(0.3611), 6: tensor(0.5932), 7: tensor(0.5745), 8: tensor(0.7917), 9: tensor(0.4400)}\n",
      "ECCOLO 30\n",
      "\n",
      "\n"
     ]
    },
    {
     "data": {
      "image/png": "[encoded data removed]",
      "text/plain": [
       "<Figure size 432x288 with 1 Axes>"
      ]
     },
     "metadata": {
      "needs_background": "light"
     },
     "output_type": "display_data"
    },
    {
     "name": "stdout",
     "output_type": "stream",
     "text": [
      "{0: tensor(2), 1: tensor(9), 2: tensor(1), 3: tensor(6), 4: tensor(7), 5: tensor(8), 6: tensor(7), 7: tensor(1), 8: tensor(0), 9: tensor(3)}\n",
      "{0: tensor(0.6774), 1: tensor(0.4103), 2: tensor(0.4286), 3: tensor(0.8077), 4: tensor(0.2400), 5: tensor(0.5278), 6: tensor(0.4310), 7: tensor(0.6047), 8: tensor(0.6939), 9: tensor(0.4839)}\n",
      "ECCOLO 60\n",
      "\n",
      "\n"
     ]
    },
    {
     "data": {
      "image/png": "[encoded data removed]",
      "text/plain": [
       "<Figure size 432x288 with 1 Axes>"
      ]
     },
     "metadata": {
      "needs_background": "light"
     },
     "output_type": "display_data"
    },
    {
     "name": "stdout",
     "output_type": "stream",
     "text": [
      "{0: tensor(2), 1: tensor(9), 2: tensor(1), 3: tensor(6), 4: tensor(7), 5: tensor(0), 6: tensor(4), 7: tensor(1), 8: tensor(0), 9: tensor(3)}\n",
      "{0: tensor(0.6400), 1: tensor(0.3590), 2: tensor(0.6727), 3: tensor(0.7800), 4: tensor(0.4107), 5: tensor(0.3182), 6: tensor(0.3774), 7: tensor(0.3729), 8: tensor(0.7222), 9: tensor(0.4310)}\n",
      "ECCOLO 90\n",
      "\n",
      "\n"
     ]
    },
    {
     "data": {
      "image/png": "[encoded data removed]",
      "text/plain": [
       "<Figure size 432x288 with 1 Axes>"
      ]
     },
     "metadata": {
      "needs_background": "light"
     },
     "output_type": "display_data"
    },
    {
     "name": "stdout",
     "output_type": "stream",
     "text": [
      "{0: tensor(2), 1: tensor(4), 2: tensor(1), 3: tensor(6), 4: tensor(7), 5: tensor(0), 6: tensor(9), 7: tensor(1), 8: tensor(0), 9: tensor(3)}\n",
      "{0: tensor(0.7333), 1: tensor(0.3415), 2: tensor(0.5238), 3: tensor(0.5833), 4: tensor(0.3492), 5: tensor(0.3415), 6: tensor(0.3538), 7: tensor(0.4107), 8: tensor(0.8537), 9: tensor(0.3571)}\n",
      "EPOCH: 7\n",
      "ECCOLO 0\n",
      "\n",
      "\n"
     ]
    },
    {
     "data": {
      "image/png": "[encoded data removed]",
      "text/plain": [
       "<Figure size 432x288 with 1 Axes>"
      ]
     },
     "metadata": {
      "needs_background": "light"
     },
     "output_type": "display_data"
    },
    {
     "name": "stdout",
     "output_type": "stream",
     "text": [
      "{0: tensor(2), 1: tensor(9), 2: tensor(1), 3: tensor(6), 4: tensor(7), 5: tensor(0), 6: tensor(9), 7: tensor(1), 8: tensor(0), 9: tensor(3)}\n",
      "{0: tensor(0.4889), 1: tensor(0.3488), 2: tensor(0.5455), 3: tensor(0.7660), 4: tensor(0.3333), 5: tensor(0.2750), 6: tensor(0.4043), 7: tensor(0.6042), 8: tensor(0.6957), 9: tensor(0.4026)}\n",
      "ECCOLO 30\n",
      "\n",
      "\n"
     ]
    },
    {
     "data": {
      "image/png": "[encoded data removed]",
      "text/plain": [
       "<Figure size 432x288 with 1 Axes>"
      ]
     },
     "metadata": {
      "needs_background": "light"
     },
     "output_type": "display_data"
    },
    {
     "name": "stdout",
     "output_type": "stream",
     "text": [
      "{0: tensor(2), 1: tensor(9), 2: tensor(1), 3: tensor(6), 4: tensor(7), 5: tensor(0), 6: tensor(7), 7: tensor(1), 8: tensor(0), 9: tensor(3)}\n",
      "{0: tensor(0.5000), 1: tensor(0.3571), 2: tensor(0.6735), 3: tensor(0.5410), 4: tensor(0.5385), 5: tensor(0.2500), 6: tensor(0.3684), 7: tensor(0.4375), 8: tensor(0.6154), 9: tensor(0.4576)}\n",
      "ECCOLO 60\n",
      "\n",
      "\n"
     ]
    },
    {
     "data": {
      "image/png": "[encoded data removed]",
      "text/plain": [
       "<Figure size 432x288 with 1 Axes>"
      ]
     },
     "metadata": {
      "needs_background": "light"
     },
     "output_type": "display_data"
    },
    {
     "name": "stdout",
     "output_type": "stream",
     "text": [
      "{0: tensor(2), 1: tensor(4), 2: tensor(1), 3: tensor(6), 4: tensor(7), 5: tensor(5), 6: tensor(7), 7: tensor(1), 8: tensor(0), 9: tensor(3)}\n",
      "{0: tensor(0.5714), 1: tensor(0.4043), 2: tensor(0.5952), 3: tensor(0.7674), 4: tensor(0.3793), 5: tensor(0.3333), 6: tensor(0.3396), 7: tensor(0.6889), 8: tensor(0.6667), 9: tensor(0.5410)}\n",
      "ECCOLO 90\n",
      "\n",
      "\n"
     ]
    },
    {
     "data": {
      "image/png": "[encoded data removed]",
      "text/plain": [
       "<Figure size 432x288 with 1 Axes>"
      ]
     },
     "metadata": {
      "needs_background": "light"
     },
     "output_type": "display_data"
    },
    {
     "name": "stdout",
     "output_type": "stream",
     "text": [
      "{0: tensor(2), 1: tensor(9), 2: tensor(1), 3: tensor(6), 4: tensor(4), 5: tensor(0), 6: tensor(7), 7: tensor(1), 8: tensor(0), 9: tensor(3)}\n",
      "{0: tensor(0.4423), 1: tensor(0.3830), 2: tensor(0.4286), 3: tensor(0.6604), 4: tensor(0.3385), 5: tensor(0.3333), 6: tensor(0.4727), 7: tensor(0.8158), 8: tensor(0.7442), 9: tensor(0.3836)}\n",
      "EPOCH: 8\n",
      "ECCOLO 0\n",
      "\n",
      "\n"
     ]
    },
    {
     "data": {
      "image/png": "[encoded data removed]",
      "text/plain": [
       "<Figure size 432x288 with 1 Axes>"
      ]
     },
     "metadata": {
      "needs_background": "light"
     },
     "output_type": "display_data"
    },
    {
     "name": "stdout",
     "output_type": "stream",
     "text": [
      "{0: tensor(2), 1: tensor(9), 2: tensor(1), 3: tensor(6), 4: tensor(7), 5: tensor(6), 6: tensor(7), 7: tensor(1), 8: tensor(0), 9: tensor(3)}\n",
      "{0: tensor(0.7273), 1: tensor(0.3846), 2: tensor(0.7317), 3: tensor(0.5778), 4: tensor(0.2500), 5: tensor(0.2750), 6: tensor(0.4426), 7: tensor(0.6296), 8: tensor(0.6154), 9: tensor(0.4605)}\n",
      "ECCOLO 30\n",
      "\n",
      "\n"
     ]
    },
    {
     "data": {
      "image/png": "[encoded data removed]",
      "text/plain": [
       "<Figure size 432x288 with 1 Axes>"
      ]
     },
     "metadata": {
      "needs_background": "light"
     },
     "output_type": "display_data"
    },
    {
     "name": "stdout",
     "output_type": "stream",
     "text": [
      "{0: tensor(2), 1: tensor(4), 2: tensor(1), 3: tensor(6), 4: tensor(4), 5: tensor(5), 6: tensor(7), 7: tensor(1), 8: tensor(0), 9: tensor(3)}\n",
      "{0: tensor(0.6170), 1: tensor(0.4103), 2: tensor(0.6731), 3: tensor(0.6600), 4: tensor(0.3208), 5: tensor(0.2857), 6: tensor(0.4603), 7: tensor(0.3810), 8: tensor(0.5660), 9: tensor(0.5616)}\n",
      "ECCOLO 60\n",
      "\n",
      "\n"
     ]
    },
    {
     "data": {
      "image/png": "[encoded data removed]",
      "text/plain": [
       "<Figure size 432x288 with 1 Axes>"
      ]
     },
     "metadata": {
      "needs_background": "light"
     },
     "output_type": "display_data"
    },
    {
     "name": "stdout",
     "output_type": "stream",
     "text": [
      "{0: tensor(2), 1: tensor(9), 2: tensor(1), 3: tensor(6), 4: tensor(7), 5: tensor(0), 6: tensor(9), 7: tensor(1), 8: tensor(0), 9: tensor(3)}\n",
      "{0: tensor(0.5952), 1: tensor(0.3529), 2: tensor(0.6341), 3: tensor(0.8864), 4: tensor(0.4143), 5: tensor(0.2885), 6: tensor(0.3864), 7: tensor(0.6170), 8: tensor(0.7250), 9: tensor(0.4058)}\n",
      "ECCOLO 90\n",
      "\n",
      "\n"
     ]
    },
    {
     "data": {
      "image/png": "[encoded data removed]",
      "text/plain": [
       "<Figure size 432x288 with 1 Axes>"
      ]
     },
     "metadata": {
      "needs_background": "light"
     },
     "output_type": "display_data"
    },
    {
     "name": "stdout",
     "output_type": "stream",
     "text": [
      "{0: tensor(2), 1: tensor(9), 2: tensor(1), 3: tensor(6), 4: tensor(7), 5: tensor(0), 6: tensor(4), 7: tensor(1), 8: tensor(0), 9: tensor(3)}\n",
      "{0: tensor(0.6341), 1: tensor(0.3864), 2: tensor(0.5000), 3: tensor(0.5405), 4: tensor(0.4167), 5: tensor(0.2800), 6: tensor(0.5000), 7: tensor(0.6538), 8: tensor(0.7021), 9: tensor(0.3766)}\n",
      "EPOCH: 9\n",
      "ECCOLO 0\n",
      "\n",
      "\n"
     ]
    },
    {
     "data": {
      "image/png": "[encoded data removed]",
      "text/plain": [
       "<Figure size 432x288 with 1 Axes>"
      ]
     },
     "metadata": {
      "needs_background": "light"
     },
     "output_type": "display_data"
    },
    {
     "name": "stdout",
     "output_type": "stream",
     "text": [
      "{0: tensor(2), 1: tensor(4), 2: tensor(1), 3: tensor(6), 4: tensor(7), 5: tensor(6), 6: tensor(7), 7: tensor(1), 8: tensor(0), 9: tensor(3)}\n",
      "{0: tensor(0.7556), 1: tensor(0.3148), 2: tensor(0.5200), 3: tensor(0.6957), 4: tensor(0.3725), 5: tensor(0.3158), 6: tensor(0.3111), 7: tensor(0.3750), 8: tensor(0.6000), 9: tensor(0.4576)}\n",
      "ECCOLO 30\n",
      "\n",
      "\n"
     ]
    },
    {
     "data": {
      "image/png": "[encoded data removed]",
      "text/plain": [
       "<Figure size 432x288 with 1 Axes>"
      ]
     },
     "metadata": {
      "needs_background": "light"
     },
     "output_type": "display_data"
    },
    {
     "name": "stdout",
     "output_type": "stream",
     "text": [
      "{0: tensor(2), 1: tensor(9), 2: tensor(1), 3: tensor(6), 4: tensor(9), 5: tensor(6), 6: tensor(4), 7: tensor(1), 8: tensor(0), 9: tensor(3)}\n",
      "{0: tensor(0.6226), 1: tensor(0.3962), 2: tensor(0.5918), 3: tensor(0.8333), 4: tensor(0.3455), 5: tensor(0.3030), 6: tensor(0.2667), 7: tensor(0.6579), 8: tensor(0.7143), 9: tensor(0.3478)}\n",
      "ECCOLO 60\n",
      "\n",
      "\n"
     ]
    },
    {
     "data": {
      "image/png": "[encoded data removed]",
      "text/plain": [
       "<Figure size 432x288 with 1 Axes>"
      ]
     },
     "metadata": {
      "needs_background": "light"
     },
     "output_type": "display_data"
    },
    {
     "name": "stdout",
     "output_type": "stream",
     "text": [
      "{0: tensor(2), 1: tensor(9), 2: tensor(1), 3: tensor(6), 4: tensor(7), 5: tensor(6), 6: tensor(4), 7: tensor(1), 8: tensor(0), 9: tensor(3)}\n",
      "{0: tensor(0.5500), 1: tensor(0.2941), 2: tensor(0.5600), 3: tensor(0.5882), 4: tensor(0.3462), 5: tensor(0.4545), 6: tensor(0.2727), 7: tensor(0.7234), 8: tensor(0.7442), 9: tensor(0.4828)}\n",
      "ECCOLO 90\n",
      "\n",
      "\n"
     ]
    },
    {
     "data": {
      "image/png": "[encoded data removed]",
      "text/plain": [
       "<Figure size 432x288 with 1 Axes>"
      ]
     },
     "metadata": {
      "needs_background": "light"
     },
     "output_type": "display_data"
    },
    {
     "name": "stdout",
     "output_type": "stream",
     "text": [
      "{0: tensor(2), 1: tensor(9), 2: tensor(1), 3: tensor(6), 4: tensor(7), 5: tensor(0), 6: tensor(8), 7: tensor(1), 8: tensor(0), 9: tensor(3)}\n",
      "{0: tensor(0.6279), 1: tensor(0.3438), 2: tensor(0.5000), 3: tensor(0.6818), 4: tensor(0.3651), 5: tensor(0.3000), 6: tensor(0.3548), 7: tensor(0.5000), 8: tensor(0.6812), 9: tensor(0.4677)}\n"
     ]
    }
   ],
   "source": [
    "## forward pass prova\n",
    "for epoch in range(EPOCHS):\n",
    "    print(f\"EPOCH: {epoch}\")\n",
    "    for (i,(x,y)) in enumerate(train_dataloader):\n",
    "\n",
    "\n",
    "        x=x.to(device)\n",
    "\n",
    "\n",
    "        z_mean,z_log_var = model.encoder(x)\n",
    "\n",
    "        model.q_z = D.normal.Normal(z_mean, torch.exp(0.5 * z_log_var))\n",
    "\n",
    "        device=z_mean.get_device()\n",
    "\n",
    "        # sample z from it\n",
    "        z = model.q_z.rsample()\n",
    "\n",
    "        #z=self.sample(z_mean,z_log_var)\n",
    "\n",
    "        sim=model.compute_similarity(z)\n",
    "\n",
    "    #    sim= z@model.basis.type_as(z)\n",
    "\n",
    "      #  print(f\"shapes z: {z.shape} basis: {model.basis.shape} sim: {sim.shape}\")\n",
    "\n",
    "        ##map each vector into his cluster\n",
    "        cl=sim.argmax(-1)\n",
    "\n",
    "        #print(cl)\n",
    "\n",
    "       # print(f\"cluster {sim[cl==0].shape} -- {sim[cl==0].mean(axis=0).shape}\")\n",
    "\n",
    "        if i%30==0:\n",
    "            print(f\"ECCOLO {i}\\n\\n\")\n",
    "            plt.hist(cl.cpu().numpy())\n",
    "            plt.hist(y.numpy(),alpha=0.6)\n",
    "            plt.show()\n",
    "\n",
    "            #aggiungere mapping\n",
    "            m,a=mapping(cl,y)\n",
    "            print(m)\n",
    "            print(a)\n",
    "\n",
    "        model.z=z\n",
    "        model.z_mean,model.z_log_var=z_mean,z_log_var\n",
    "\n",
    "        # reference N(0,1)\n",
    "        ref_mu = torch.zeros(z.shape[0], z.shape[-1])\n",
    "        ref_sigma = torch.ones(z.shape[0], z.shape[-1])\n",
    "\n",
    "        model.p_z = D.normal.Normal(ref_mu.to(device), ref_sigma.to(device))\n",
    "\n",
    "        x2 = model.decoder(z,sim)\n",
    "\n",
    "\n",
    "\n",
    "        loss, recon_loss, kl_loss = model.compute_loss(x2, x)\n",
    "\n",
    "        optimizer.zero_grad()\n",
    "        loss.backward()\n",
    "        optimizer.step()\n",
    "\n",
    "\n",
    "        #print(model.basis)\n",
    "\n",
    "        #update the basis matrix columns according to the mean of the vector that belongs to that cluster\n",
    "        #for i in range(model.n_basis):\n",
    "        #    model.basis[:,i]=z[cl==i].mean(axis=0) ## GUARDARE QUA!\n",
    "\n",
    "\n"
   ]
  },
  {
   "cell_type": "code",
   "execution_count": 14,
   "id": "f6558872",
   "metadata": {},
   "outputs": [
    {
     "name": "stderr",
     "output_type": "stream",
     "text": [
      "Epoch 0: 100%|████████████████████| 120/120 [00:14<00:00,  8.09batch/s, kl_loss=0.0161, loss=0.0443, recon_loss=0.0282]\n",
      "Val 0: 100%|████████████| 20/20 [00:01<00:00, 11.72batch/s, val_kl_loss=0.0161, val_loss=0.0442, val_recon_loss=0.0282]\n"
     ]
    },
    {
     "name": "stdout",
     "output_type": "stream",
     "text": [
      "(500, 28, 28, 1) (100, 28, 28, 3)\n"
     ]
    },
    {
     "data": {
      "image/png": "[encoded data removed]",
      "text/plain": [
       "<Figure size 720x288 with 8 Axes>"
      ]
     },
     "metadata": {
      "needs_background": "light"
     },
     "output_type": "display_data"
    },
    {
     "name": "stderr",
     "output_type": "stream",
     "text": [
      "Epoch 1: 100%|█████████████████████| 120/120 [00:14<00:00,  8.06batch/s, kl_loss=0.0163, loss=0.0442, recon_loss=0.028]\n",
      "Val 1: 100%|█████████████| 20/20 [00:01<00:00, 11.88batch/s, val_kl_loss=0.0163, val_loss=0.0435, val_recon_loss=0.028]\n"
     ]
    },
    {
     "name": "stdout",
     "output_type": "stream",
     "text": [
      "(500, 28, 28, 1) (100, 28, 28, 3)\n"
     ]
    },
    {
     "data": {
      "image/png": "[encoded data removed]",
      "text/plain": [
       "<Figure size 720x288 with 8 Axes>"
      ]
     },
     "metadata": {
      "needs_background": "light"
     },
     "output_type": "display_data"
    },
    {
     "name": "stderr",
     "output_type": "stream",
     "text": [
      "Epoch 2: 100%|████████████████████| 120/120 [00:15<00:00,  8.00batch/s, kl_loss=0.0164, loss=0.0431, recon_loss=0.0266]\n",
      "Val 2: 100%|████████████| 20/20 [00:01<00:00, 12.36batch/s, val_kl_loss=0.0164, val_loss=0.0436, val_recon_loss=0.0266]\n"
     ]
    },
    {
     "name": "stdout",
     "output_type": "stream",
     "text": [
      "(500, 28, 28, 1) (100, 28, 28, 3)\n"
     ]
    },
    {
     "data": {
      "image/png": "[encoded data removed]",
      "text/plain": [
       "<Figure size 720x288 with 8 Axes>"
      ]
     },
     "metadata": {
      "needs_background": "light"
     },
     "output_type": "display_data"
    },
    {
     "name": "stderr",
     "output_type": "stream",
     "text": [
      "Epoch 3: 100%|████████████████████| 120/120 [00:15<00:00,  7.76batch/s, kl_loss=0.0166, loss=0.0429, recon_loss=0.0263]\n",
      "Val 3: 100%|█████████████| 20/20 [00:01<00:00, 10.60batch/s, val_kl_loss=0.0166, val_loss=0.043, val_recon_loss=0.0263]\n"
     ]
    },
    {
     "name": "stdout",
     "output_type": "stream",
     "text": [
      "(500, 28, 28, 1) (100, 28, 28, 3)\n"
     ]
    },
    {
     "data": {
      "image/png": "[encoded data removed]",
      "text/plain": [
       "<Figure size 720x288 with 8 Axes>"
      ]
     },
     "metadata": {
      "needs_background": "light"
     },
     "output_type": "display_data"
    },
    {
     "name": "stderr",
     "output_type": "stream",
     "text": [
      "Epoch 4: 100%|████████████████████| 120/120 [00:16<00:00,  7.49batch/s, kl_loss=0.0163, loss=0.0428, recon_loss=0.0265]\n",
      "Val 4: 100%|████████████| 20/20 [00:01<00:00, 10.96batch/s, val_kl_loss=0.0163, val_loss=0.0424, val_recon_loss=0.0265]\n"
     ]
    },
    {
     "name": "stdout",
     "output_type": "stream",
     "text": [
      "(500, 28, 28, 1) (100, 28, 28, 3)\n"
     ]
    },
    {
     "data": {
      "image/png": "[encoded data removed]",
      "text/plain": [
       "<Figure size 720x288 with 8 Axes>"
      ]
     },
     "metadata": {
      "needs_background": "light"
     },
     "output_type": "display_data"
    },
    {
     "name": "stderr",
     "output_type": "stream",
     "text": [
      "Epoch 5: 100%|█████████████████████| 120/120 [00:15<00:00,  7.80batch/s, kl_loss=0.017, loss=0.0438, recon_loss=0.0268]\n",
      "Val 5: 100%|█████████████| 20/20 [00:02<00:00,  9.29batch/s, val_kl_loss=0.017, val_loss=0.0414, val_recon_loss=0.0268]\n"
     ]
    },
    {
     "name": "stdout",
     "output_type": "stream",
     "text": [
      "(500, 28, 28, 1) (100, 28, 28, 3)\n"
     ]
    },
    {
     "data": {
      "image/png": "[encoded data removed]",
      "text/plain": [
       "<Figure size 720x288 with 8 Axes>"
      ]
     },
     "metadata": {
      "needs_background": "light"
     },
     "output_type": "display_data"
    },
    {
     "name": "stderr",
     "output_type": "stream",
     "text": [
      "Epoch 6: 100%|█████████████████████| 120/120 [00:24<00:00,  4.83batch/s, kl_loss=0.0161, loss=0.042, recon_loss=0.0259]\n",
      "Val 6: 100%|████████████| 20/20 [00:03<00:00,  6.00batch/s, val_kl_loss=0.0161, val_loss=0.0414, val_recon_loss=0.0259]\n"
     ]
    },
    {
     "name": "stdout",
     "output_type": "stream",
     "text": [
      "(500, 28, 28, 1) (100, 28, 28, 3)\n"
     ]
    },
    {
     "data": {
      "image/png": "[encoded data removed]",
      "text/plain": [
       "<Figure size 720x288 with 8 Axes>"
      ]
     },
     "metadata": {
      "needs_background": "light"
     },
     "output_type": "display_data"
    },
    {
     "name": "stderr",
     "output_type": "stream",
     "text": [
      "Epoch 7: 100%|█████████████████████| 120/120 [00:18<00:00,  6.39batch/s, kl_loss=0.0166, loss=0.042, recon_loss=0.0254]\n",
      "Val 7: 100%|████████████| 20/20 [00:01<00:00, 12.65batch/s, val_kl_loss=0.0166, val_loss=0.0419, val_recon_loss=0.0254]\n"
     ]
    },
    {
     "name": "stdout",
     "output_type": "stream",
     "text": [
      "(500, 28, 28, 1) (100, 28, 28, 3)\n"
     ]
    },
    {
     "data": {
      "image/png": "[encoded data removed]",
      "text/plain": [
       "<Figure size 720x288 with 8 Axes>"
      ]
     },
     "metadata": {
      "needs_background": "light"
     },
     "output_type": "display_data"
    },
    {
     "name": "stderr",
     "output_type": "stream",
     "text": [
      "Epoch 8: 100%|████████████████████| 120/120 [00:14<00:00,  8.09batch/s, kl_loss=0.0161, loss=0.0419, recon_loss=0.0258]\n",
      "Val 8: 100%|████████████| 20/20 [00:01<00:00, 12.71batch/s, val_kl_loss=0.0161, val_loss=0.0408, val_recon_loss=0.0258]\n"
     ]
    },
    {
     "name": "stdout",
     "output_type": "stream",
     "text": [
      "(500, 28, 28, 1) (100, 28, 28, 3)\n"
     ]
    },
    {
     "data": {
      "image/png": "[encoded data removed]",
      "text/plain": [
       "<Figure size 720x288 with 8 Axes>"
      ]
     },
     "metadata": {
      "needs_background": "light"
     },
     "output_type": "display_data"
    },
    {
     "name": "stderr",
     "output_type": "stream",
     "text": [
      "Epoch 9:  37%|█████████▉                 | 44/120 [00:05<00:09,  7.87batch/s, kl_loss=0.0165, loss=nan, recon_loss=nan]\n"
     ]
    },
    {
     "ename": "ValueError",
     "evalue": "Expected parameter loc (Tensor of shape (500, 50)) of distribution Normal(loc: torch.Size([500, 50]), scale: torch.Size([500, 50])) to satisfy the constraint Real(), but found invalid values:\ntensor([[nan, nan, nan,  ..., nan, nan, nan],\n        [nan, nan, nan,  ..., nan, nan, nan],\n        [nan, nan, nan,  ..., nan, nan, nan],\n        ...,\n        [nan, nan, nan,  ..., nan, nan, nan],\n        [nan, nan, nan,  ..., nan, nan, nan],\n        [nan, nan, nan,  ..., nan, nan, nan]], device='cuda:0',\n       grad_fn=<AddmmBackward0>)",
     "output_type": "error",
     "traceback": [
      "\u001b[1;31m---------------------------------------------------------------------------\u001b[0m",
      "\u001b[1;31mValueError\u001b[0m                                Traceback (most recent call last)",
      "\u001b[1;32m~\\AppData\\Local\\Temp/ipykernel_21084/2168417778.py\u001b[0m in \u001b[0;36m<module>\u001b[1;34m\u001b[0m\n\u001b[0;32m      4\u001b[0m \u001b[0mmodel\u001b[0m\u001b[1;33m.\u001b[0m\u001b[0mto\u001b[0m\u001b[1;33m(\u001b[0m\u001b[0mdevice\u001b[0m\u001b[1;33m)\u001b[0m\u001b[1;33m\u001b[0m\u001b[1;33m\u001b[0m\u001b[0m\n\u001b[0;32m      5\u001b[0m \u001b[1;33m\u001b[0m\u001b[0m\n\u001b[1;32m----> 6\u001b[1;33m \u001b[0mmodel\u001b[0m\u001b[1;33m.\u001b[0m\u001b[0mfit\u001b[0m\u001b[1;33m(\u001b[0m\u001b[0mtrain_dataloader\u001b[0m\u001b[1;33m=\u001b[0m\u001b[0mtrain_dataloader\u001b[0m\u001b[1;33m,\u001b[0m\u001b[0mval_dataloader\u001b[0m\u001b[1;33m=\u001b[0m\u001b[0mtest_dataloader\u001b[0m\u001b[1;33m,\u001b[0m\u001b[0mepochs\u001b[0m\u001b[1;33m=\u001b[0m\u001b[0mEPOCHS\u001b[0m\u001b[1;33m,\u001b[0m\u001b[0moptimizer\u001b[0m\u001b[1;33m=\u001b[0m\u001b[0moptimizer\u001b[0m\u001b[1;33m,\u001b[0m\u001b[0mdevice\u001b[0m\u001b[1;33m=\u001b[0m\u001b[0mdevice\u001b[0m\u001b[1;33m,\u001b[0m\u001b[0mwandb_log\u001b[0m\u001b[1;33m=\u001b[0m\u001b[1;32mTrue\u001b[0m\u001b[1;33m,\u001b[0m\u001b[0msave_model\u001b[0m\u001b[1;33m=\u001b[0m\u001b[0mbase_path\u001b[0m\u001b[1;33m,\u001b[0m\u001b[0mearly_stop\u001b[0m\u001b[1;33m=\u001b[0m\u001b[1;36m3\u001b[0m\u001b[1;33m)\u001b[0m\u001b[1;33m\u001b[0m\u001b[1;33m\u001b[0m\u001b[0m\n\u001b[0m",
      "\u001b[1;32m~\\AppData\\Local\\Temp/ipykernel_21084/3869529013.py\u001b[0m in \u001b[0;36mfit\u001b[1;34m(self, train_dataloader, val_dataloader, epochs, optimizer, device, wandb_log, save_model, early_stop)\u001b[0m\n\u001b[0;32m    220\u001b[0m \u001b[1;33m\u001b[0m\u001b[0m\n\u001b[0;32m    221\u001b[0m                     \u001b[1;31m# compute the loss\u001b[0m\u001b[1;33m\u001b[0m\u001b[1;33m\u001b[0m\u001b[1;33m\u001b[0m\u001b[0m\n\u001b[1;32m--> 222\u001b[1;33m                     \u001b[0mx_pred\u001b[0m \u001b[1;33m=\u001b[0m \u001b[0mmodel\u001b[0m\u001b[1;33m(\u001b[0m\u001b[0mx\u001b[0m\u001b[1;33m)\u001b[0m\u001b[1;33m\u001b[0m\u001b[1;33m\u001b[0m\u001b[0m\n\u001b[0m\u001b[0;32m    223\u001b[0m \u001b[1;33m\u001b[0m\u001b[0m\n\u001b[0;32m    224\u001b[0m                     \u001b[0mloss\u001b[0m\u001b[1;33m,\u001b[0m \u001b[0mrecon_loss\u001b[0m\u001b[1;33m,\u001b[0m \u001b[0mkl_loss\u001b[0m \u001b[1;33m=\u001b[0m \u001b[0mmodel\u001b[0m\u001b[1;33m.\u001b[0m\u001b[0mcompute_loss\u001b[0m\u001b[1;33m(\u001b[0m\u001b[0mx_pred\u001b[0m\u001b[1;33m,\u001b[0m \u001b[0mx\u001b[0m\u001b[1;33m)\u001b[0m\u001b[1;33m\u001b[0m\u001b[1;33m\u001b[0m\u001b[0m\n",
      "\u001b[1;32m~\\anaconda3\\envs\\pytorch\\lib\\site-packages\\torch\\nn\\modules\\module.py\u001b[0m in \u001b[0;36m_call_impl\u001b[1;34m(self, *input, **kwargs)\u001b[0m\n\u001b[0;32m   1100\u001b[0m         if not (self._backward_hooks or self._forward_hooks or self._forward_pre_hooks or _global_backward_hooks\n\u001b[0;32m   1101\u001b[0m                 or _global_forward_hooks or _global_forward_pre_hooks):\n\u001b[1;32m-> 1102\u001b[1;33m             \u001b[1;32mreturn\u001b[0m \u001b[0mforward_call\u001b[0m\u001b[1;33m(\u001b[0m\u001b[1;33m*\u001b[0m\u001b[0minput\u001b[0m\u001b[1;33m,\u001b[0m \u001b[1;33m**\u001b[0m\u001b[0mkwargs\u001b[0m\u001b[1;33m)\u001b[0m\u001b[1;33m\u001b[0m\u001b[1;33m\u001b[0m\u001b[0m\n\u001b[0m\u001b[0;32m   1103\u001b[0m         \u001b[1;31m# Do not call functions when jit is used\u001b[0m\u001b[1;33m\u001b[0m\u001b[1;33m\u001b[0m\u001b[1;33m\u001b[0m\u001b[0m\n\u001b[0;32m   1104\u001b[0m         \u001b[0mfull_backward_hooks\u001b[0m\u001b[1;33m,\u001b[0m \u001b[0mnon_full_backward_hooks\u001b[0m \u001b[1;33m=\u001b[0m \u001b[1;33m[\u001b[0m\u001b[1;33m]\u001b[0m\u001b[1;33m,\u001b[0m \u001b[1;33m[\u001b[0m\u001b[1;33m]\u001b[0m\u001b[1;33m\u001b[0m\u001b[1;33m\u001b[0m\u001b[0m\n",
      "\u001b[1;32m~\\AppData\\Local\\Temp/ipykernel_21084/3869529013.py\u001b[0m in \u001b[0;36mforward\u001b[1;34m(self, x)\u001b[0m\n\u001b[0;32m     91\u001b[0m         \u001b[0mz_mean\u001b[0m\u001b[1;33m,\u001b[0m\u001b[0mz_log_var\u001b[0m \u001b[1;33m=\u001b[0m \u001b[0mself\u001b[0m\u001b[1;33m.\u001b[0m\u001b[0mencoder\u001b[0m\u001b[1;33m(\u001b[0m\u001b[0mx\u001b[0m\u001b[1;33m)\u001b[0m\u001b[1;33m\u001b[0m\u001b[1;33m\u001b[0m\u001b[0m\n\u001b[0;32m     92\u001b[0m \u001b[1;33m\u001b[0m\u001b[0m\n\u001b[1;32m---> 93\u001b[1;33m         \u001b[0mself\u001b[0m\u001b[1;33m.\u001b[0m\u001b[0mq_z\u001b[0m \u001b[1;33m=\u001b[0m \u001b[0mD\u001b[0m\u001b[1;33m.\u001b[0m\u001b[0mnormal\u001b[0m\u001b[1;33m.\u001b[0m\u001b[0mNormal\u001b[0m\u001b[1;33m(\u001b[0m\u001b[0mz_mean\u001b[0m\u001b[1;33m,\u001b[0m \u001b[0mtorch\u001b[0m\u001b[1;33m.\u001b[0m\u001b[0mexp\u001b[0m\u001b[1;33m(\u001b[0m\u001b[1;36m0.5\u001b[0m \u001b[1;33m*\u001b[0m \u001b[0mz_log_var\u001b[0m\u001b[1;33m)\u001b[0m\u001b[1;33m)\u001b[0m\u001b[1;33m\u001b[0m\u001b[1;33m\u001b[0m\u001b[0m\n\u001b[0m\u001b[0;32m     94\u001b[0m \u001b[1;33m\u001b[0m\u001b[0m\n\u001b[0;32m     95\u001b[0m         \u001b[0mdevice\u001b[0m\u001b[1;33m=\u001b[0m\u001b[0mz_mean\u001b[0m\u001b[1;33m.\u001b[0m\u001b[0mget_device\u001b[0m\u001b[1;33m(\u001b[0m\u001b[1;33m)\u001b[0m\u001b[1;33m\u001b[0m\u001b[1;33m\u001b[0m\u001b[0m\n",
      "\u001b[1;32m~\\anaconda3\\envs\\pytorch\\lib\\site-packages\\torch\\distributions\\normal.py\u001b[0m in \u001b[0;36m__init__\u001b[1;34m(self, loc, scale, validate_args)\u001b[0m\n\u001b[0;32m     48\u001b[0m         \u001b[1;32melse\u001b[0m\u001b[1;33m:\u001b[0m\u001b[1;33m\u001b[0m\u001b[1;33m\u001b[0m\u001b[0m\n\u001b[0;32m     49\u001b[0m             \u001b[0mbatch_shape\u001b[0m \u001b[1;33m=\u001b[0m \u001b[0mself\u001b[0m\u001b[1;33m.\u001b[0m\u001b[0mloc\u001b[0m\u001b[1;33m.\u001b[0m\u001b[0msize\u001b[0m\u001b[1;33m(\u001b[0m\u001b[1;33m)\u001b[0m\u001b[1;33m\u001b[0m\u001b[1;33m\u001b[0m\u001b[0m\n\u001b[1;32m---> 50\u001b[1;33m         \u001b[0msuper\u001b[0m\u001b[1;33m(\u001b[0m\u001b[0mNormal\u001b[0m\u001b[1;33m,\u001b[0m \u001b[0mself\u001b[0m\u001b[1;33m)\u001b[0m\u001b[1;33m.\u001b[0m\u001b[0m__init__\u001b[0m\u001b[1;33m(\u001b[0m\u001b[0mbatch_shape\u001b[0m\u001b[1;33m,\u001b[0m \u001b[0mvalidate_args\u001b[0m\u001b[1;33m=\u001b[0m\u001b[0mvalidate_args\u001b[0m\u001b[1;33m)\u001b[0m\u001b[1;33m\u001b[0m\u001b[1;33m\u001b[0m\u001b[0m\n\u001b[0m\u001b[0;32m     51\u001b[0m \u001b[1;33m\u001b[0m\u001b[0m\n\u001b[0;32m     52\u001b[0m     \u001b[1;32mdef\u001b[0m \u001b[0mexpand\u001b[0m\u001b[1;33m(\u001b[0m\u001b[0mself\u001b[0m\u001b[1;33m,\u001b[0m \u001b[0mbatch_shape\u001b[0m\u001b[1;33m,\u001b[0m \u001b[0m_instance\u001b[0m\u001b[1;33m=\u001b[0m\u001b[1;32mNone\u001b[0m\u001b[1;33m)\u001b[0m\u001b[1;33m:\u001b[0m\u001b[1;33m\u001b[0m\u001b[1;33m\u001b[0m\u001b[0m\n",
      "\u001b[1;32m~\\anaconda3\\envs\\pytorch\\lib\\site-packages\\torch\\distributions\\distribution.py\u001b[0m in \u001b[0;36m__init__\u001b[1;34m(self, batch_shape, event_shape, validate_args)\u001b[0m\n\u001b[0;32m     53\u001b[0m                 \u001b[0mvalid\u001b[0m \u001b[1;33m=\u001b[0m \u001b[0mconstraint\u001b[0m\u001b[1;33m.\u001b[0m\u001b[0mcheck\u001b[0m\u001b[1;33m(\u001b[0m\u001b[0mvalue\u001b[0m\u001b[1;33m)\u001b[0m\u001b[1;33m\u001b[0m\u001b[1;33m\u001b[0m\u001b[0m\n\u001b[0;32m     54\u001b[0m                 \u001b[1;32mif\u001b[0m \u001b[1;32mnot\u001b[0m \u001b[0mvalid\u001b[0m\u001b[1;33m.\u001b[0m\u001b[0mall\u001b[0m\u001b[1;33m(\u001b[0m\u001b[1;33m)\u001b[0m\u001b[1;33m:\u001b[0m\u001b[1;33m\u001b[0m\u001b[1;33m\u001b[0m\u001b[0m\n\u001b[1;32m---> 55\u001b[1;33m                     raise ValueError(\n\u001b[0m\u001b[0;32m     56\u001b[0m                         \u001b[1;34mf\"Expected parameter {param} \"\u001b[0m\u001b[1;33m\u001b[0m\u001b[1;33m\u001b[0m\u001b[0m\n\u001b[0;32m     57\u001b[0m                         \u001b[1;34mf\"({type(value).__name__} of shape {tuple(value.shape)}) \"\u001b[0m\u001b[1;33m\u001b[0m\u001b[1;33m\u001b[0m\u001b[0m\n",
      "\u001b[1;31mValueError\u001b[0m: Expected parameter loc (Tensor of shape (500, 50)) of distribution Normal(loc: torch.Size([500, 50]), scale: torch.Size([500, 50])) to satisfy the constraint Real(), but found invalid values:\ntensor([[nan, nan, nan,  ..., nan, nan, nan],\n        [nan, nan, nan,  ..., nan, nan, nan],\n        [nan, nan, nan,  ..., nan, nan, nan],\n        ...,\n        [nan, nan, nan,  ..., nan, nan, nan],\n        [nan, nan, nan,  ..., nan, nan, nan],\n        [nan, nan, nan,  ..., nan, nan, nan]], device='cuda:0',\n       grad_fn=<AddmmBackward0>)"
     ]
    }
   ],
   "source": [
    "\n",
    "#model.load_state_dict(torch.load(r\"models/vae/model.ckp\"))\n",
    "\n",
    "optimizer=torch.optim.Adam(model.parameters(),lr=INIT_LR)\n",
    "model.to(device)\n",
    "\n",
    "model.fit(train_dataloader=train_dataloader,val_dataloader=test_dataloader,epochs=EPOCHS,optimizer=optimizer,device=device,wandb_log=True,save_model=base_path,early_stop=3)"
   ]
  },
  {
   "cell_type": "code",
   "execution_count": null,
   "id": "197bbfea-6278-4ff7-afed-95fbe1875728",
   "metadata": {},
   "outputs": [],
   "source": [
    "torch.save(model.state_dict(), \"vaesim_prova1.pt\")"
   ]
  },
  {
   "cell_type": "markdown",
   "id": "edd4d45a-9284-41da-b683-6af31dcb319d",
   "metadata": {},
   "source": [
    "## Clustering and mappings \n",
    "\n",
    "\n",
    "1) Use a subset of the training data to infer the final mappings between clusters and labels\n",
    "2) Reconstruct the test dataset with the associate labels\n",
    "3) Inspect the clusters"
   ]
  },
  {
   "cell_type": "code",
   "execution_count": null,
   "id": "e6fd22cd-3cc1-48e2-99c0-c030748ed02c",
   "metadata": {},
   "outputs": [],
   "source": [
    "#model.load_state_dict(torch.load(\"vaesim_prova1.pt\"))\n"
   ]
  },
  {
   "cell_type": "code",
   "execution_count": null,
   "id": "e11e967f-7d4f-478e-b9fa-1cb29931a3a5",
   "metadata": {},
   "outputs": [],
   "source": [
    "\n",
    "with torch.no_grad():\n",
    "\n",
    "    n_semi=2000\n",
    "\n",
    "\n",
    "\n",
    "    stack=[]\n",
    "    labels=[]\n",
    "    for i,data in enumerate(train_dataset):\n",
    "        x,y=data\n",
    "        stack.append(x)\n",
    "        labels.append(y)\n",
    "        if i==n_semi-1:\n",
    "            break\n",
    "\n",
    "\n",
    "    stack=torch.stack(stack).to(device)\n",
    "    labels=torch.Tensor(labels)\n",
    "\n",
    "    ## INFER THE MAPPINGS\n",
    "\n",
    "    z_mean,z_log_var = model.encoder(stack)\n",
    "\n",
    "    model.q_z = D.normal.Normal(z_mean, torch.exp(0.5 * z_log_var))\n",
    "\n",
    "    device=z_mean.get_device()\n",
    "\n",
    "    # sample z from it\n",
    "    z = model.q_z.rsample()\n",
    "\n",
    "    #z=self.sample(z_mean,z_log_var)\n",
    "    \n",
    "    sim=model.compute_similarity(z)\n",
    "\n",
    "    #    sim= z@model.basis.type_as(z)\n",
    "\n",
    "    #  print(f\"shapes z: {z.shape} basis: {model.basis.shape} sim: {sim.shape}\")\n",
    "\n",
    "    ##map each vector into his cluster\n",
    "    cl=sim.argmax(-1)\n",
    "\n",
    "    mappings,accuracy=mapping(cl,labels)"
   ]
  },
  {
   "cell_type": "code",
   "execution_count": null,
   "id": "e4c90988-23df-4b2a-b2f2-4ebb91dea98b",
   "metadata": {},
   "outputs": [],
   "source": [
    "recon=[]\n",
    "y_pred=[]\n",
    "for x,y in test_dataset:\n",
    "    \n",
    "    x_rec,cluster,sim=model.reconstruct_and_cluster(x.unsqueeze(0).to(device))\n",
    "    y_pred=mappings[cluster]\n",
    "    break\n",
    "    "
   ]
  },
  {
   "cell_type": "code",
   "execution_count": null,
   "id": "f372fbd8-8442-4be6-8cf2-f0961a404bf9",
   "metadata": {},
   "outputs": [],
   "source": []
  },
  {
   "cell_type": "code",
   "execution_count": null,
   "id": "6c066c90-9d97-4797-9bfc-ee92218af913",
   "metadata": {},
   "outputs": [],
   "source": []
  }
 ],
 "metadata": {
  "kernelspec": {
   "display_name": "Python 3 (ipykernel)",
   "language": "python",
   "name": "python3"
  },
  "language_info": {
   "codemirror_mode": {
    "name": "ipython",
    "version": 3
   },
   "file_extension": ".py",
   "mimetype": "text/x-python",
   "name": "python",
   "nbconvert_exporter": "python",
   "pygments_lexer": "ipython3",
   "version": "3.8.12"
  }
 },
 "nbformat": 4,
 "nbformat_minor": 5
}
