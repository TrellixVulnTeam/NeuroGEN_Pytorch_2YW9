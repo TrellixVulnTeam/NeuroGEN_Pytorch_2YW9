{
 "cells": [
  {
   "cell_type": "code",
   "execution_count": 1,
   "id": "4b99b042",
   "metadata": {},
   "outputs": [
    {
     "name": "stderr",
     "output_type": "stream",
     "text": [
      "Failed to detect the name of this notebook, you can set it manually with the WANDB_NOTEBOOK_NAME environment variable to enable code saving.\n",
      "\u001b[34m\u001b[1mwandb\u001b[0m: Currently logged in as: \u001b[33mmatteoferrante\u001b[0m (use `wandb login --relogin` to force relogin)\n"
     ]
    },
    {
     "data": {
      "text/plain": [
       "'TO DO decidere il metodo di aggiornamento della matrice S (gradiente o update manuale?)\\ndecidere il metodo di inizializzazione della matrice S gaussiane? punti fissi?'"
      ]
     },
     "execution_count": 1,
     "metadata": {},
     "output_type": "execute_result"
    }
   ],
   "source": [
    "import torch\n",
    "import numpy as np\n",
    "from torch import nn\n",
    "import matplotlib.pyplot as plt\n",
    "from classes.Architectures import VAEDecoder, VAEEncoder, Discriminator,cVAEDecoder\n",
    "\n",
    "from torch.utils.data import DataLoader, Dataset\n",
    "from torchvision.datasets import MNIST\n",
    "from torchvision.transforms import Compose,ToTensor,Resize,PILToTensor\n",
    "\n",
    "\n",
    "\n",
    "from torch import distributions as D\n",
    "from torch.nn.functional import softmax\n",
    "import wandb\n",
    "\n",
    "from imutils import paths\n",
    "import matplotlib.pyplot as plt\n",
    "import tqdm\n",
    "from utils.callbacks import *\n",
    "\n",
    "import os\n",
    "\n",
    "wandb.login()\n",
    "\n",
    "\"\"\"TO DO decidere il metodo di aggiornamento della matrice S (gradiente o update manuale?)\n",
    "decidere il metodo di inizializzazione della matrice S gaussiane? punti fissi?\"\"\"\n",
    "\n"
   ]
  },
  {
   "cell_type": "code",
   "execution_count": 2,
   "id": "f3013059",
   "metadata": {},
   "outputs": [],
   "source": [
    "class VAESIM(nn.Module):\n",
    "\n",
    "\n",
    "    def __init__(self, input_dim, latent_dim,weight=None, encoder_architecture=[(0,128),[(0,256)]], decoder_architecture=[(0,128),[(0,256)]],n_basis=10):\n",
    "        \"\"\"\n",
    "\n",
    "        :param input_dim: dimension of images\n",
    "        :param latent_dim: latent_dim\n",
    "\n",
    "        Attributes\n",
    "        ----------\n",
    "        total_loss_tracker: mean of the sum of reconstruction_loss and kl_loss\n",
    "        reconstruction_loss: mean metrics that are L2 norm between input and outputs\n",
    "        encoder_architecture: list of tuple, len of list is the number of blocks, [(n_block_res,n_filters)..]\n",
    "        decoder_architecture: list of tuple, len of list is the number of blocks, [(n_block_res,n_filters)..]\n",
    "        kl_loss: regularizer loss\n",
    "\n",
    "\n",
    "\n",
    "        \"\"\"\n",
    "        super().__init__()\n",
    "\n",
    "\n",
    "        self.input_dim=input_dim\n",
    "        self.latent_dim=latent_dim\n",
    "        self.encoder_architecture=encoder_architecture\n",
    "        self.decoder_architecture=decoder_architecture\n",
    "\n",
    "        if weight is None:\n",
    "            self.weight=latent_dim/np.prod(input_dim)\n",
    "        else:\n",
    "            self.weight=weight\n",
    "\n",
    "        self.encoder = VAEEncoder( latent_dim=latent_dim,  conv_layer_list=encoder_architecture)\n",
    "        self.decoder = cVAEDecoder(self.input_dim, latent_dim=latent_dim,  conv_layer_list=decoder_architecture,condition_dim=n_basis)\n",
    "\n",
    "        self.kl_loss=0\n",
    "        self.recon_loss=nn.MSELoss()\n",
    "        self.loss=None\n",
    "\n",
    "        self.patience=0 #for early stopping\n",
    "        self.device=None\n",
    "\n",
    "        self.n_basis=n_basis\n",
    "        self.spacing=3\n",
    "        self.basis_mean=torch.arange(0,n_basis)*self.spacing\n",
    "        \n",
    "        self.basis=None\n",
    "        \n",
    "        \n",
    "    \n",
    "    def clustering(self,z):\n",
    "        \"\"\"\n",
    "            @param z: Tensor\n",
    "            \n",
    "            returns: tensor of cluster, similarity matrix\n",
    "        \"\"\"\n",
    "        sim= z@self.basis\n",
    "        cl=sim.argmax(-1)\n",
    "        return cl,sim\n",
    "        \n",
    "        \n",
    "        \n",
    "        \n",
    "    def sample(self,z_mean,z_log_var):\n",
    "        epsilon = torch.randn_like(z_mean)\n",
    "        return z_mean + torch.exp(z_log_var/2.) * epsilon\n",
    "\n",
    "\n",
    "    \n",
    "    def reconstruct_and_cluster(self,x):\n",
    "        \n",
    "        z_mean,z_log_var = self.encoder(x)\n",
    "        \n",
    "        self.q_z = D.normal.Normal(z_mean, torch.exp(0.5 * z_log_var))\n",
    "\n",
    "        device=z_mean.get_device()\n",
    "\n",
    "        # sample z from it\n",
    "        z = self.q_z.rsample()\n",
    "    \n",
    "        cluster,sim=self.clustering(z)\n",
    "        x = self.decoder(z,sim)\n",
    "        \n",
    "        return x, cluster,similarity\n",
    "    \n",
    "    \n",
    "    def forward(self, x):\n",
    "\n",
    "        \n",
    "        z_mean,z_log_var = self.encoder(x)\n",
    "        \n",
    "        self.q_z = D.normal.Normal(z_mean, torch.exp(0.5 * z_log_var))\n",
    "\n",
    "        device=z_mean.get_device()\n",
    "\n",
    "        \n",
    "        \n",
    "        # sample z from it\n",
    "        z = self.q_z.rsample()\n",
    "\n",
    "        sim=self.compute_similarity(z)\n",
    "\n",
    "        self.z=z\n",
    "        self.z_mean,self.z_log_var=z_mean,z_log_var\n",
    "\n",
    "        # reference N(0,1)\n",
    "        ref_mu = torch.zeros(z.shape[0], z.shape[-1])\n",
    "        ref_sigma = torch.ones(z.shape[0], z.shape[-1])\n",
    "\n",
    "        self.p_z = D.normal.Normal(ref_mu.to(device), ref_sigma.to(device))\n",
    "        \n",
    "        soft_sim=softmax(sim,dim=1)\n",
    "        x = self.decoder(z,soft_sim)\n",
    "\n",
    "        return x\n",
    "\n",
    "    def update_cluster_means(self,z,soft_sim):\n",
    "        \n",
    "        \"\"\"This is the most important function in the code\"\"\"\n",
    "            \n",
    "        ##map each vector into his cluster\n",
    "        cl=soft_sim.argmax(-1)\n",
    "        \n",
    "        #update the basis matrix columns according to the mean of the vector that belongs to that cluster\n",
    "        for i in range(self.n_basis):\n",
    "            \n",
    "         \n",
    "            if not torch.isnan(z[cl==i].mean(axis=0)).any():\n",
    "                \n",
    "                #Here I check there is no NaN in the mean vector\n",
    "                \n",
    "                self.basis[:,i]=z[cl==i].mean(axis=0)\n",
    "\n",
    "                #print(f\"DEBUG -> cl: {cl}\")\n",
    "                #print(f\"DEBUG -> z: {z}\")\n",
    "                #print(f\"DEBUG -> z[cl=={i}]: {z[cl==i]}\")\n",
    "                             \n",
    "        \n",
    "        return cl\n",
    "\n",
    "    \n",
    "    def init_clusters(self):\n",
    "        print(\"Init basis\")\n",
    "        self.basis=torch.randn(self.latent_dim,self.n_basis).requires_grad_(False)\n",
    "        \n",
    "            \n",
    "            \n",
    "            \n",
    "    def compute_similarity(self,z):\n",
    "        \"\"\"compute the similarity between each sample and the mean vector of the cluster\"\"\"\n",
    "        \n",
    "        ## TO DO MATRIX RAPRESENTATION\n",
    "        \n",
    "        ### TO DO BETTER INIT\n",
    "        if  self.basis is None:\n",
    "            self.init_clusters()\n",
    "        \n",
    "        sim= z@self.basis.type_as(z)\n",
    "        means=self.update_cluster_means(z,softmax(sim))\n",
    "\n",
    "        \n",
    "        return sim.detach()\n",
    "    \n",
    "    def compute_kl_loss(self):\n",
    "\n",
    "        #log_qzx = self.q_z.log_prob(self.z)\n",
    "        #log_pz =  self.p_z.log_prob(self.z)\n",
    "\n",
    "        # kl\n",
    "        #kl = -(log_qzx - log_pz)\n",
    "        #kl = kl.sum(-1)\n",
    "\n",
    "        kl_div = torch.mean(D.kl_divergence(self.q_z, self.p_z))\n",
    "        #kl_div=-0.5 * torch.sum(1 + self.z_log_var - self.z_mean.pow(2) - self.z_log_var.exp())\n",
    "        return self.weight*kl_div\n",
    "\n",
    "    def compute_reconstruction_loss(self, y_pred, y):\n",
    "        return self.recon_loss(y_pred, y)\n",
    "\n",
    "    def compute_loss(self, y_pred, y):\n",
    "        recon_loss = self.compute_reconstruction_loss(y_pred, y)\n",
    "        kl_loss = self.compute_kl_loss()\n",
    "\n",
    "        self.loss = recon_loss + kl_loss\n",
    "\n",
    "        return self.loss, recon_loss, kl_loss\n",
    "\n",
    "\n",
    "    def fit(self,train_dataloader,val_dataloader=None,epochs=10,optimizer=None,device=\"cuda\",wandb_log=True,save_model=None,early_stop=None):\n",
    "\n",
    "        \"\"\"Main train loop. The logic is all under model.train().\n",
    "        After the training epoch there is validation loop and some \"callbacks\" to store weights, save outputs to W&B and visualize it\n",
    "\n",
    "\n",
    "        \"\"\"\n",
    "\n",
    "        self.device=device #set in memory the device type\n",
    "        model=self\n",
    "\n",
    "        loss_history = []\n",
    "        recon_loss_history = []\n",
    "        kl_loss_history = []\n",
    "\n",
    "        val_loss_history = []\n",
    "        val_recon_loss_history = []\n",
    "        val_kl_loss_history = []\n",
    "\n",
    "        for epoch in range(epochs):\n",
    "\n",
    "            # just store loss and accuracy for this epoch\n",
    "\n",
    "            loss_temp = []\n",
    "            recon_loss_temp = []\n",
    "            kl_loss_temp = []\n",
    "\n",
    "            model.train()\n",
    "            with tqdm.tqdm(train_dataloader, unit=\"batch\") as tepoch:\n",
    "\n",
    "                tepoch.set_description(f\"Epoch {epoch}\")\n",
    "                for batch in tepoch:\n",
    "                    # get the data and pass them to device\n",
    "\n",
    "                    if len(batch)==2:\n",
    "                        x,y=batch\n",
    "                    else:\n",
    "                        x = batch\n",
    "\n",
    "\n",
    "\n",
    "                    x = x.to(device)\n",
    "\n",
    "                    # compute the loss\n",
    "                    x_pred = model(x)\n",
    "\n",
    "                    loss, recon_loss, kl_loss = model.compute_loss(x_pred, x)\n",
    "\n",
    "                    # backpropagate\n",
    "                    optimizer.zero_grad()\n",
    "                    loss.backward()\n",
    "                    optimizer.step()\n",
    "\n",
    "                    loss_temp.append(loss.item())\n",
    "                    recon_loss_temp.append(recon_loss.item())\n",
    "                    kl_loss_temp.append(kl_loss.item())\n",
    "\n",
    "                    tepoch.set_postfix(loss=loss.item(), recon_loss=recon_loss.item(), kl_loss=kl_loss.item())\n",
    "\n",
    "            # store the metrics for epochs\n",
    "            loss_history.append(np.mean(loss_temp))\n",
    "            recon_loss_history.append(np.mean(recon_loss_temp))\n",
    "            kl_loss_history.append(np.mean(kl_loss_temp))\n",
    "\n",
    "            if wandb_log:\n",
    "                wandb.log({\"loss\": loss_history[-1], \"recon_loss\": recon_loss_history[-1], \"kl_loss\": kl_loss_history[-1]})\n",
    "\n",
    "            if val_dataloader is not None:\n",
    "                val_loss_temp = []\n",
    "                val_recon_loss_temp = []\n",
    "                val_kl_loss_temp = []\n",
    "\n",
    "                model.eval()\n",
    "                with tqdm.tqdm(val_dataloader, unit=\"batch\") as tepoch:\n",
    "\n",
    "                    tepoch.set_description(f\"Val {epoch}\")\n",
    "                    for batch in tepoch:\n",
    "                        # get the data and pass them to device\n",
    "\n",
    "                        if len(batch) == 2:\n",
    "                            x, y = batch\n",
    "                        else:\n",
    "                            x = batch\n",
    "                        x = x.to(device)\n",
    "\n",
    "                        # compute the loss\n",
    "                        x_pred = model(x)\n",
    "\n",
    "                        val_loss, val_recon_loss, val_kl_loss = model.compute_loss(x_pred, x)\n",
    "\n",
    "                        # store info\n",
    "                        val_loss_temp.append(val_loss.item())\n",
    "                        val_recon_loss_temp.append(val_recon_loss.item())\n",
    "                        val_kl_loss_temp.append(val_kl_loss.item())\n",
    "\n",
    "                        tepoch.set_postfix(val_loss=val_loss.item(), val_recon_loss=recon_loss.item(),\n",
    "                                           val_kl_loss=kl_loss.item())\n",
    "                    ##handle callbacks\n",
    "\n",
    "\n",
    "\n",
    "                # store the metrics for validation epochs\n",
    "                val_loss_history.append(np.mean(val_loss_temp))\n",
    "                val_recon_loss_history.append(np.mean(val_recon_loss_temp))\n",
    "                val_kl_loss_history.append(np.mean(val_kl_loss_temp))\n",
    "\n",
    "                if early_stop is not None:\n",
    "                    if len(val_loss_history)>2:\n",
    "                        if val_loss_history[-1]>val_loss_history[-2]:\n",
    "                            self.patience+=1\n",
    "                    if self.patience==early_stop:\n",
    "                        print(\"[INFO] Early Stopping\")\n",
    "                        break\n",
    "\n",
    "                if wandb_log:\n",
    "\n",
    "                    wandb.log({\"val_loss\": val_loss_history[-1], \"val_recon_loss\": val_recon_loss_history[-1],\n",
    "                               \"val_kl_loss\": val_kl_loss_history[-1]})\n",
    "\n",
    "                    WandbImagesSIMVAE(self, x,show=True)\n",
    "\n",
    "\n",
    "\n",
    "                if save_model is not None:\n",
    "                    SaveModel(self,save_model)\n",
    "\n",
    "    def encode(self,x):\n",
    "        return self.encoder(x)\n",
    "\n",
    "    def decode(self,z):\n",
    "        return self.decoder(z)\n"
   ]
  },
  {
   "cell_type": "code",
   "execution_count": 3,
   "id": "ed06b0d8",
   "metadata": {},
   "outputs": [],
   "source": [
    "encoder_architecture=[[0,64],[0,128],[0,256]]\n",
    "decoder_architecture=[[0,64],[0,128]]\n",
    "\n",
    "n_basis=10\n",
    "latent_dim=20\n",
    "input_dim=(1,28,28)\n",
    "\n"
   ]
  },
  {
   "cell_type": "code",
   "execution_count": 4,
   "id": "1bec01a2",
   "metadata": {},
   "outputs": [
    {
     "data": {
      "text/html": [
       "\n",
       "                    Syncing run <strong><a href=\"https://wandb.ai/matteoferrante/NeuroGEN_Pytorch/runs/1fkn49o1\" target=\"_blank\">eager-galaxy-222</a></strong> to <a href=\"https://wandb.ai/matteoferrante/NeuroGEN_Pytorch\" target=\"_blank\">Weights & Biases</a> (<a href=\"https://docs.wandb.com/integrations/jupyter.html\" target=\"_blank\">docs</a>).<br/>\n",
       "\n",
       "                "
      ],
      "text/plain": [
       "<IPython.core.display.HTML object>"
      ]
     },
     "metadata": {},
     "output_type": "display_data"
    },
    {
     "data": {
      "text/html": [
       "<button onClick=\"this.nextSibling.style.display='block';this.style.display='none';\">Display W&B run</button><iframe src=\"https://wandb.ai/matteoferrante/NeuroGEN_Pytorch/runs/1fkn49o1?jupyter=true\" style=\"border:none;width:100%;height:420px;display:none;\"></iframe>"
      ],
      "text/plain": [
       "<wandb.sdk.wandb_run.Run at 0x25508505910>"
      ]
     },
     "execution_count": 4,
     "metadata": {},
     "output_type": "execute_result"
    }
   ],
   "source": [
    "EPOCHS=10\n",
    "BS=500\n",
    "INIT_LR=1e-4\n",
    "\n",
    "config={}\n",
    "config[\"epochs\"]=EPOCHS\n",
    "config[\"BS\"]=BS\n",
    "config[\"init_lr\"]=INIT_LR\n",
    "\n",
    "\n",
    "config={\"dataset\":\"MNIST\", \"type\":\"VAE\",\"encoder_architecture\":encoder_architecture,\"decoder_architecture\":decoder_architecture}\n",
    "config[\"latent_dim\"]=latent_dim\n",
    "config[\"input_dim\"]=input_dim\n",
    "\n",
    "wandb.init(project=\"NeuroGEN_Pytorch\",config=config)"
   ]
  },
  {
   "cell_type": "markdown",
   "id": "5d977867",
   "metadata": {},
   "source": [
    "## Dataloaders"
   ]
  },
  {
   "cell_type": "code",
   "execution_count": 5,
   "id": "68059990",
   "metadata": {},
   "outputs": [],
   "source": [
    "transform=Compose([ToTensor()])\n",
    "\n",
    "train_dataset=MNIST('mnist_train', train=True, download=True,\n",
    "                             transform=transform)\n",
    "test_dataset=MNIST('mnist_test', train=False, download=True,\n",
    "                             transform=transform)\n"
   ]
  },
  {
   "cell_type": "code",
   "execution_count": 6,
   "id": "295d888a",
   "metadata": {},
   "outputs": [],
   "source": [
    "train_dataloader=DataLoader(train_dataset,batch_size=BS,shuffle=False)\n",
    "test_dataloader=DataLoader(test_dataset,batch_size=BS,shuffle=True)\n"
   ]
  },
  {
   "cell_type": "markdown",
   "id": "faeabc30",
   "metadata": {},
   "source": [
    "## Train Loop"
   ]
  },
  {
   "cell_type": "code",
   "execution_count": 7,
   "id": "1d578b29",
   "metadata": {},
   "outputs": [],
   "source": [
    "base_path=\"models/vaesim_mnist\"\n",
    "os.makedirs(base_path,exist_ok=True)"
   ]
  },
  {
   "cell_type": "code",
   "execution_count": 8,
   "id": "34b68351",
   "metadata": {},
   "outputs": [
    {
     "name": "stdout",
     "output_type": "stream",
     "text": [
      "Using cuda:0 device\n"
     ]
    }
   ],
   "source": [
    "# Get cpu or gpu device for training.\n",
    "device = \"cuda:0\" if torch.cuda.is_available() else \"cpu\"\n",
    "print(f\"Using {device} device\")"
   ]
  },
  {
   "cell_type": "code",
   "execution_count": 9,
   "id": "6f3fb427",
   "metadata": {},
   "outputs": [
    {
     "data": {
      "text/html": [
       "Finishing last run (ID:1fkn49o1) before initializing another..."
      ],
      "text/plain": [
       "<IPython.core.display.HTML object>"
      ]
     },
     "metadata": {},
     "output_type": "display_data"
    },
    {
     "data": {
      "text/html": [
       "<br/>Waiting for W&B process to finish, PID 13000... <strong style=\"color:green\">(success).</strong>"
      ],
      "text/plain": [
       "<IPython.core.display.HTML object>"
      ]
     },
     "metadata": {},
     "output_type": "display_data"
    },
    {
     "data": {
      "application/vnd.jupyter.widget-view+json": {
       "model_id": "",
       "version_major": 2,
       "version_minor": 0
      },
      "text/plain": [
       "VBox(children=(Label(value=' 1.46MB of 1.46MB uploaded (0.00MB deduped)\\r'), FloatProgress(value=1.0, max=1.0)…"
      ]
     },
     "metadata": {},
     "output_type": "display_data"
    },
    {
     "data": {
      "text/html": [
       "<style>\n",
       "    table.wandb td:nth-child(1) { padding: 0 10px; text-align: right }\n",
       "    .wandb-row { display: flex; flex-direction: row; flex-wrap: wrap; width: 100% }\n",
       "    .wandb-col { display: flex; flex-direction: column; flex-basis: 100%; flex: 1; padding: 10px; }\n",
       "    </style>\n",
       "<div class=\"wandb-row\"><div class=\"wandb-col\">\n",
       "</div><div class=\"wandb-col\">\n",
       "</div></div>\n",
       "Synced 6 W&B file(s), 0 media file(s), 0 artifact file(s) and 1 other file(s)\n",
       "<br/>Synced <strong style=\"color:#cdcd00\">eager-galaxy-222</strong>: <a href=\"https://wandb.ai/matteoferrante/NeuroGEN_Pytorch/runs/1fkn49o1\" target=\"_blank\">https://wandb.ai/matteoferrante/NeuroGEN_Pytorch/runs/1fkn49o1</a><br/>\n",
       "Find logs at: <code>.\\wandb\\run-20220124_112213-1fkn49o1\\logs</code><br/>\n"
      ],
      "text/plain": [
       "<IPython.core.display.HTML object>"
      ]
     },
     "metadata": {},
     "output_type": "display_data"
    },
    {
     "data": {
      "text/html": [
       "Successfully finished last run (ID:1fkn49o1). Initializing new run:<br/>"
      ],
      "text/plain": [
       "<IPython.core.display.HTML object>"
      ]
     },
     "metadata": {},
     "output_type": "display_data"
    },
    {
     "data": {
      "text/html": [
       "\n",
       "                    Syncing run <strong><a href=\"https://wandb.ai/matteoferrante/NeuroGEN_Pytorch/runs/3bwae3xk\" target=\"_blank\">worldly-paper-223</a></strong> to <a href=\"https://wandb.ai/matteoferrante/NeuroGEN_Pytorch\" target=\"_blank\">Weights & Biases</a> (<a href=\"https://docs.wandb.com/integrations/jupyter.html\" target=\"_blank\">docs</a>).<br/>\n",
       "\n",
       "                "
      ],
      "text/plain": [
       "<IPython.core.display.HTML object>"
      ]
     },
     "metadata": {},
     "output_type": "display_data"
    },
    {
     "data": {
      "text/html": [
       "<button onClick=\"this.nextSibling.style.display='block';this.style.display='none';\">Display W&B run</button><iframe src=\"https://wandb.ai/matteoferrante/NeuroGEN_Pytorch/runs/3bwae3xk?jupyter=true\" style=\"border:none;width:100%;height:420px;display:none;\"></iframe>"
      ],
      "text/plain": [
       "<wandb.sdk.wandb_run.Run at 0x25508522bb0>"
      ]
     },
     "execution_count": 9,
     "metadata": {},
     "output_type": "execute_result"
    }
   ],
   "source": [
    "wandb.init(project=\"NeuroGEN_Pytorch\",config=config)"
   ]
  },
  {
   "cell_type": "code",
   "execution_count": 10,
   "id": "7629f942",
   "metadata": {},
   "outputs": [
    {
     "name": "stdout",
     "output_type": "stream",
     "text": [
      "RUNNING ON cuda:0\n"
     ]
    },
    {
     "name": "stderr",
     "output_type": "stream",
     "text": [
      "C:\\Users\\matte\\anaconda3\\envs\\pytorch\\lib\\site-packages\\torch\\nn\\modules\\lazy.py:178: UserWarning: Lazy modules are a new feature under heavy development so changes to the API or functionality can happen at any moment.\n",
      "  warnings.warn('Lazy modules are a new feature under heavy development '\n"
     ]
    }
   ],
   "source": [
    "model=VAESIM(input_dim=input_dim,latent_dim=latent_dim,encoder_architecture=encoder_architecture,decoder_architecture=decoder_architecture,n_basis=n_basis)\n",
    "\n",
    "\n",
    "optimizer=torch.optim.Adam(model.parameters(),lr=INIT_LR)\n",
    "model.to(device)\n",
    "print(f\"RUNNING ON {device}\")"
   ]
  },
  {
   "cell_type": "code",
   "execution_count": 11,
   "id": "a66e27ec-c39d-4278-8479-8281ff943cd1",
   "metadata": {},
   "outputs": [],
   "source": [
    "def mapping(cl,y):\n",
    "    \"\"\"map[k]=label so we map the cluster k-th to the label\"\"\"\n",
    "    \n",
    "    map={}\n",
    "    \n",
    "    acc={}\n",
    "    \n",
    "    for k in range(n_basis):\n",
    "        \n",
    "        v=y[cl==k].mode().values\n",
    "        map[k]=v\n",
    "        acc[k]=(y[cl==k]==v).sum()/len(y[cl==k]) \n",
    "        \n",
    "    return map,acc"
   ]
  },
  {
   "cell_type": "code",
   "execution_count": 12,
   "id": "72753776",
   "metadata": {},
   "outputs": [
    {
     "name": "stdout",
     "output_type": "stream",
     "text": [
      "Init basis\n"
     ]
    }
   ],
   "source": [
    "### PROVe\n",
    "\n",
    "x,y=next(iter(train_dataloader))\n",
    "\n",
    "x=x.to(device)\n",
    "\n",
    "model.init_clusters()"
   ]
  },
  {
   "cell_type": "code",
   "execution_count": 13,
   "id": "7937ea46",
   "metadata": {},
   "outputs": [
    {
     "name": "stdout",
     "output_type": "stream",
     "text": [
      "EPOCH: 0\n"
     ]
    },
    {
     "ename": "KeyboardInterrupt",
     "evalue": "",
     "output_type": "error",
     "traceback": [
      "\u001b[1;31m---------------------------------------------------------------------------\u001b[0m",
      "\u001b[1;31mKeyboardInterrupt\u001b[0m                         Traceback (most recent call last)",
      "\u001b[1;32m~\\AppData\\Local\\Temp/ipykernel_19632/962829667.py\u001b[0m in \u001b[0;36m<module>\u001b[1;34m\u001b[0m\n\u001b[0;32m      8\u001b[0m \u001b[1;33m\u001b[0m\u001b[0m\n\u001b[0;32m      9\u001b[0m \u001b[1;33m\u001b[0m\u001b[0m\n\u001b[1;32m---> 10\u001b[1;33m         \u001b[0mz_mean\u001b[0m\u001b[1;33m,\u001b[0m\u001b[0mz_log_var\u001b[0m \u001b[1;33m=\u001b[0m \u001b[0mmodel\u001b[0m\u001b[1;33m.\u001b[0m\u001b[0mencoder\u001b[0m\u001b[1;33m(\u001b[0m\u001b[0mx\u001b[0m\u001b[1;33m)\u001b[0m\u001b[1;33m\u001b[0m\u001b[1;33m\u001b[0m\u001b[0m\n\u001b[0m\u001b[0;32m     11\u001b[0m \u001b[1;33m\u001b[0m\u001b[0m\n\u001b[0;32m     12\u001b[0m \u001b[1;33m\u001b[0m\u001b[0m\n",
      "\u001b[1;32m~\\anaconda3\\envs\\pytorch\\lib\\site-packages\\torch\\nn\\modules\\module.py\u001b[0m in \u001b[0;36m_call_impl\u001b[1;34m(self, *input, **kwargs)\u001b[0m\n\u001b[0;32m   1100\u001b[0m         if not (self._backward_hooks or self._forward_hooks or self._forward_pre_hooks or _global_backward_hooks\n\u001b[0;32m   1101\u001b[0m                 or _global_forward_hooks or _global_forward_pre_hooks):\n\u001b[1;32m-> 1102\u001b[1;33m             \u001b[1;32mreturn\u001b[0m \u001b[0mforward_call\u001b[0m\u001b[1;33m(\u001b[0m\u001b[1;33m*\u001b[0m\u001b[0minput\u001b[0m\u001b[1;33m,\u001b[0m \u001b[1;33m**\u001b[0m\u001b[0mkwargs\u001b[0m\u001b[1;33m)\u001b[0m\u001b[1;33m\u001b[0m\u001b[1;33m\u001b[0m\u001b[0m\n\u001b[0m\u001b[0;32m   1103\u001b[0m         \u001b[1;31m# Do not call functions when jit is used\u001b[0m\u001b[1;33m\u001b[0m\u001b[1;33m\u001b[0m\u001b[1;33m\u001b[0m\u001b[0m\n\u001b[0;32m   1104\u001b[0m         \u001b[0mfull_backward_hooks\u001b[0m\u001b[1;33m,\u001b[0m \u001b[0mnon_full_backward_hooks\u001b[0m \u001b[1;33m=\u001b[0m \u001b[1;33m[\u001b[0m\u001b[1;33m]\u001b[0m\u001b[1;33m,\u001b[0m \u001b[1;33m[\u001b[0m\u001b[1;33m]\u001b[0m\u001b[1;33m\u001b[0m\u001b[1;33m\u001b[0m\u001b[0m\n",
      "\u001b[1;32m~\\PycharmProjects\\NeuroGEN_Pytorch\\classes\\Architectures.py\u001b[0m in \u001b[0;36mforward\u001b[1;34m(self, x)\u001b[0m\n\u001b[0;32m    380\u001b[0m     \u001b[1;32mdef\u001b[0m \u001b[0mforward\u001b[0m\u001b[1;33m(\u001b[0m\u001b[0mself\u001b[0m\u001b[1;33m,\u001b[0m \u001b[0mx\u001b[0m\u001b[1;33m)\u001b[0m\u001b[1;33m:\u001b[0m\u001b[1;33m\u001b[0m\u001b[1;33m\u001b[0m\u001b[0m\n\u001b[0;32m    381\u001b[0m \u001b[1;33m\u001b[0m\u001b[0m\n\u001b[1;32m--> 382\u001b[1;33m         \u001b[0mx\u001b[0m \u001b[1;33m=\u001b[0m \u001b[0mself\u001b[0m\u001b[1;33m.\u001b[0m\u001b[0mfeatures\u001b[0m\u001b[1;33m(\u001b[0m\u001b[0mx\u001b[0m\u001b[1;33m)\u001b[0m\u001b[1;33m\u001b[0m\u001b[1;33m\u001b[0m\u001b[0m\n\u001b[0m\u001b[0;32m    383\u001b[0m \u001b[1;33m\u001b[0m\u001b[0m\n\u001b[0;32m    384\u001b[0m \u001b[1;33m\u001b[0m\u001b[0m\n",
      "\u001b[1;32m~\\anaconda3\\envs\\pytorch\\lib\\site-packages\\torch\\nn\\modules\\module.py\u001b[0m in \u001b[0;36m_call_impl\u001b[1;34m(self, *input, **kwargs)\u001b[0m\n\u001b[0;32m   1100\u001b[0m         if not (self._backward_hooks or self._forward_hooks or self._forward_pre_hooks or _global_backward_hooks\n\u001b[0;32m   1101\u001b[0m                 or _global_forward_hooks or _global_forward_pre_hooks):\n\u001b[1;32m-> 1102\u001b[1;33m             \u001b[1;32mreturn\u001b[0m \u001b[0mforward_call\u001b[0m\u001b[1;33m(\u001b[0m\u001b[1;33m*\u001b[0m\u001b[0minput\u001b[0m\u001b[1;33m,\u001b[0m \u001b[1;33m**\u001b[0m\u001b[0mkwargs\u001b[0m\u001b[1;33m)\u001b[0m\u001b[1;33m\u001b[0m\u001b[1;33m\u001b[0m\u001b[0m\n\u001b[0m\u001b[0;32m   1103\u001b[0m         \u001b[1;31m# Do not call functions when jit is used\u001b[0m\u001b[1;33m\u001b[0m\u001b[1;33m\u001b[0m\u001b[1;33m\u001b[0m\u001b[0m\n\u001b[0;32m   1104\u001b[0m         \u001b[0mfull_backward_hooks\u001b[0m\u001b[1;33m,\u001b[0m \u001b[0mnon_full_backward_hooks\u001b[0m \u001b[1;33m=\u001b[0m \u001b[1;33m[\u001b[0m\u001b[1;33m]\u001b[0m\u001b[1;33m,\u001b[0m \u001b[1;33m[\u001b[0m\u001b[1;33m]\u001b[0m\u001b[1;33m\u001b[0m\u001b[1;33m\u001b[0m\u001b[0m\n",
      "\u001b[1;32m~\\anaconda3\\envs\\pytorch\\lib\\site-packages\\torch\\nn\\modules\\container.py\u001b[0m in \u001b[0;36mforward\u001b[1;34m(self, input)\u001b[0m\n\u001b[0;32m    139\u001b[0m     \u001b[1;32mdef\u001b[0m \u001b[0mforward\u001b[0m\u001b[1;33m(\u001b[0m\u001b[0mself\u001b[0m\u001b[1;33m,\u001b[0m \u001b[0minput\u001b[0m\u001b[1;33m)\u001b[0m\u001b[1;33m:\u001b[0m\u001b[1;33m\u001b[0m\u001b[1;33m\u001b[0m\u001b[0m\n\u001b[0;32m    140\u001b[0m         \u001b[1;32mfor\u001b[0m \u001b[0mmodule\u001b[0m \u001b[1;32min\u001b[0m \u001b[0mself\u001b[0m\u001b[1;33m:\u001b[0m\u001b[1;33m\u001b[0m\u001b[1;33m\u001b[0m\u001b[0m\n\u001b[1;32m--> 141\u001b[1;33m             \u001b[0minput\u001b[0m \u001b[1;33m=\u001b[0m \u001b[0mmodule\u001b[0m\u001b[1;33m(\u001b[0m\u001b[0minput\u001b[0m\u001b[1;33m)\u001b[0m\u001b[1;33m\u001b[0m\u001b[1;33m\u001b[0m\u001b[0m\n\u001b[0m\u001b[0;32m    142\u001b[0m         \u001b[1;32mreturn\u001b[0m \u001b[0minput\u001b[0m\u001b[1;33m\u001b[0m\u001b[1;33m\u001b[0m\u001b[0m\n\u001b[0;32m    143\u001b[0m \u001b[1;33m\u001b[0m\u001b[0m\n",
      "\u001b[1;32m~\\anaconda3\\envs\\pytorch\\lib\\site-packages\\torch\\nn\\modules\\module.py\u001b[0m in \u001b[0;36m_call_impl\u001b[1;34m(self, *input, **kwargs)\u001b[0m\n\u001b[0;32m   1100\u001b[0m         if not (self._backward_hooks or self._forward_hooks or self._forward_pre_hooks or _global_backward_hooks\n\u001b[0;32m   1101\u001b[0m                 or _global_forward_hooks or _global_forward_pre_hooks):\n\u001b[1;32m-> 1102\u001b[1;33m             \u001b[1;32mreturn\u001b[0m \u001b[0mforward_call\u001b[0m\u001b[1;33m(\u001b[0m\u001b[1;33m*\u001b[0m\u001b[0minput\u001b[0m\u001b[1;33m,\u001b[0m \u001b[1;33m**\u001b[0m\u001b[0mkwargs\u001b[0m\u001b[1;33m)\u001b[0m\u001b[1;33m\u001b[0m\u001b[1;33m\u001b[0m\u001b[0m\n\u001b[0m\u001b[0;32m   1103\u001b[0m         \u001b[1;31m# Do not call functions when jit is used\u001b[0m\u001b[1;33m\u001b[0m\u001b[1;33m\u001b[0m\u001b[1;33m\u001b[0m\u001b[0m\n\u001b[0;32m   1104\u001b[0m         \u001b[0mfull_backward_hooks\u001b[0m\u001b[1;33m,\u001b[0m \u001b[0mnon_full_backward_hooks\u001b[0m \u001b[1;33m=\u001b[0m \u001b[1;33m[\u001b[0m\u001b[1;33m]\u001b[0m\u001b[1;33m,\u001b[0m \u001b[1;33m[\u001b[0m\u001b[1;33m]\u001b[0m\u001b[1;33m\u001b[0m\u001b[1;33m\u001b[0m\u001b[0m\n",
      "\u001b[1;32m~\\PycharmProjects\\NeuroGEN_Pytorch\\classes\\Architectures.py\u001b[0m in \u001b[0;36mforward\u001b[1;34m(self, x)\u001b[0m\n\u001b[0;32m    118\u001b[0m         \u001b[1;34m\"\"\"pass input trough convolutional and residual layers\"\"\"\u001b[0m\u001b[1;33m\u001b[0m\u001b[1;33m\u001b[0m\u001b[0m\n\u001b[0;32m    119\u001b[0m \u001b[1;33m\u001b[0m\u001b[0m\n\u001b[1;32m--> 120\u001b[1;33m         \u001b[0mx\u001b[0m\u001b[1;33m=\u001b[0m\u001b[0mself\u001b[0m\u001b[1;33m.\u001b[0m\u001b[0mconv\u001b[0m\u001b[1;33m(\u001b[0m\u001b[0mx\u001b[0m\u001b[1;33m)\u001b[0m\u001b[1;33m\u001b[0m\u001b[1;33m\u001b[0m\u001b[0m\n\u001b[0m\u001b[0;32m    121\u001b[0m         \u001b[0mx\u001b[0m\u001b[1;33m=\u001b[0m\u001b[0mself\u001b[0m\u001b[1;33m.\u001b[0m\u001b[0mresidual_blocks\u001b[0m\u001b[1;33m(\u001b[0m\u001b[0mx\u001b[0m\u001b[1;33m)\u001b[0m\u001b[1;33m\u001b[0m\u001b[1;33m\u001b[0m\u001b[0m\n\u001b[0;32m    122\u001b[0m         \u001b[1;32mreturn\u001b[0m \u001b[0mx\u001b[0m\u001b[1;33m\u001b[0m\u001b[1;33m\u001b[0m\u001b[0m\n",
      "\u001b[1;32m~\\anaconda3\\envs\\pytorch\\lib\\site-packages\\torch\\nn\\modules\\module.py\u001b[0m in \u001b[0;36m_call_impl\u001b[1;34m(self, *input, **kwargs)\u001b[0m\n\u001b[0;32m   1107\u001b[0m         \u001b[1;32mif\u001b[0m \u001b[0m_global_forward_pre_hooks\u001b[0m \u001b[1;32mor\u001b[0m \u001b[0mself\u001b[0m\u001b[1;33m.\u001b[0m\u001b[0m_forward_pre_hooks\u001b[0m\u001b[1;33m:\u001b[0m\u001b[1;33m\u001b[0m\u001b[1;33m\u001b[0m\u001b[0m\n\u001b[0;32m   1108\u001b[0m             \u001b[1;32mfor\u001b[0m \u001b[0mhook\u001b[0m \u001b[1;32min\u001b[0m \u001b[1;33m(\u001b[0m\u001b[1;33m*\u001b[0m\u001b[0m_global_forward_pre_hooks\u001b[0m\u001b[1;33m.\u001b[0m\u001b[0mvalues\u001b[0m\u001b[1;33m(\u001b[0m\u001b[1;33m)\u001b[0m\u001b[1;33m,\u001b[0m \u001b[1;33m*\u001b[0m\u001b[0mself\u001b[0m\u001b[1;33m.\u001b[0m\u001b[0m_forward_pre_hooks\u001b[0m\u001b[1;33m.\u001b[0m\u001b[0mvalues\u001b[0m\u001b[1;33m(\u001b[0m\u001b[1;33m)\u001b[0m\u001b[1;33m)\u001b[0m\u001b[1;33m:\u001b[0m\u001b[1;33m\u001b[0m\u001b[1;33m\u001b[0m\u001b[0m\n\u001b[1;32m-> 1109\u001b[1;33m                 \u001b[0mresult\u001b[0m \u001b[1;33m=\u001b[0m \u001b[0mhook\u001b[0m\u001b[1;33m(\u001b[0m\u001b[0mself\u001b[0m\u001b[1;33m,\u001b[0m \u001b[0minput\u001b[0m\u001b[1;33m)\u001b[0m\u001b[1;33m\u001b[0m\u001b[1;33m\u001b[0m\u001b[0m\n\u001b[0m\u001b[0;32m   1110\u001b[0m                 \u001b[1;32mif\u001b[0m \u001b[0mresult\u001b[0m \u001b[1;32mis\u001b[0m \u001b[1;32mnot\u001b[0m \u001b[1;32mNone\u001b[0m\u001b[1;33m:\u001b[0m\u001b[1;33m\u001b[0m\u001b[1;33m\u001b[0m\u001b[0m\n\u001b[0;32m   1111\u001b[0m                     \u001b[1;32mif\u001b[0m \u001b[1;32mnot\u001b[0m \u001b[0misinstance\u001b[0m\u001b[1;33m(\u001b[0m\u001b[0mresult\u001b[0m\u001b[1;33m,\u001b[0m \u001b[0mtuple\u001b[0m\u001b[1;33m)\u001b[0m\u001b[1;33m:\u001b[0m\u001b[1;33m\u001b[0m\u001b[1;33m\u001b[0m\u001b[0m\n",
      "\u001b[1;32m~\\anaconda3\\envs\\pytorch\\lib\\site-packages\\torch\\nn\\modules\\lazy.py\u001b[0m in \u001b[0;36m_infer_parameters\u001b[1;34m(self, module, input)\u001b[0m\n\u001b[0;32m    246\u001b[0m         \u001b[0mto\u001b[0m \u001b[0mavoid\u001b[0m \u001b[0msaving\u001b[0m \u001b[0mstatistics\u001b[0m \u001b[1;32mor\u001b[0m \u001b[0mcalculating\u001b[0m \u001b[0mgradients\u001b[0m\u001b[1;33m\u001b[0m\u001b[1;33m\u001b[0m\u001b[0m\n\u001b[0;32m    247\u001b[0m         \"\"\"\n\u001b[1;32m--> 248\u001b[1;33m         \u001b[0mmodule\u001b[0m\u001b[1;33m.\u001b[0m\u001b[0minitialize_parameters\u001b[0m\u001b[1;33m(\u001b[0m\u001b[1;33m*\u001b[0m\u001b[0minput\u001b[0m\u001b[1;33m)\u001b[0m\u001b[1;33m\u001b[0m\u001b[1;33m\u001b[0m\u001b[0m\n\u001b[0m\u001b[0;32m    249\u001b[0m         \u001b[1;32mif\u001b[0m \u001b[0mmodule\u001b[0m\u001b[1;33m.\u001b[0m\u001b[0mhas_uninitialized_params\u001b[0m\u001b[1;33m(\u001b[0m\u001b[1;33m)\u001b[0m\u001b[1;33m:\u001b[0m\u001b[1;33m\u001b[0m\u001b[1;33m\u001b[0m\u001b[0m\n\u001b[0;32m    250\u001b[0m             \u001b[1;32mraise\u001b[0m \u001b[0mRuntimeError\u001b[0m\u001b[1;33m(\u001b[0m\u001b[1;34m'module {} has not been fully initialized'\u001b[0m\u001b[1;33m.\u001b[0m\u001b[0mformat\u001b[0m\u001b[1;33m(\u001b[0m\u001b[0mself\u001b[0m\u001b[1;33m.\u001b[0m\u001b[0m_get_name\u001b[0m\u001b[1;33m(\u001b[0m\u001b[1;33m)\u001b[0m\u001b[1;33m)\u001b[0m\u001b[1;33m)\u001b[0m\u001b[1;33m\u001b[0m\u001b[1;33m\u001b[0m\u001b[0m\n",
      "\u001b[1;32m~\\anaconda3\\envs\\pytorch\\lib\\site-packages\\torch\\nn\\modules\\conv.py\u001b[0m in \u001b[0;36minitialize_parameters\u001b[1;34m(self, input)\u001b[0m\n\u001b[0;32m   1135\u001b[0m                 \u001b[1;32massert\u001b[0m \u001b[0misinstance\u001b[0m\u001b[1;33m(\u001b[0m\u001b[0mself\u001b[0m\u001b[1;33m.\u001b[0m\u001b[0mbias\u001b[0m\u001b[1;33m,\u001b[0m \u001b[0mUninitializedParameter\u001b[0m\u001b[1;33m)\u001b[0m\u001b[1;33m\u001b[0m\u001b[1;33m\u001b[0m\u001b[0m\n\u001b[0;32m   1136\u001b[0m                 \u001b[0mself\u001b[0m\u001b[1;33m.\u001b[0m\u001b[0mbias\u001b[0m\u001b[1;33m.\u001b[0m\u001b[0mmaterialize\u001b[0m\u001b[1;33m(\u001b[0m\u001b[1;33m(\u001b[0m\u001b[0mself\u001b[0m\u001b[1;33m.\u001b[0m\u001b[0mout_channels\u001b[0m\u001b[1;33m,\u001b[0m\u001b[1;33m)\u001b[0m\u001b[1;33m)\u001b[0m\u001b[1;33m\u001b[0m\u001b[1;33m\u001b[0m\u001b[0m\n\u001b[1;32m-> 1137\u001b[1;33m             \u001b[0mself\u001b[0m\u001b[1;33m.\u001b[0m\u001b[0mreset_parameters\u001b[0m\u001b[1;33m(\u001b[0m\u001b[1;33m)\u001b[0m\u001b[1;33m\u001b[0m\u001b[1;33m\u001b[0m\u001b[0m\n\u001b[0m\u001b[0;32m   1138\u001b[0m \u001b[1;33m\u001b[0m\u001b[0m\n\u001b[0;32m   1139\u001b[0m \u001b[1;33m\u001b[0m\u001b[0m\n",
      "\u001b[1;32m~\\anaconda3\\envs\\pytorch\\lib\\site-packages\\torch\\nn\\modules\\conv.py\u001b[0m in \u001b[0;36mreset_parameters\u001b[1;34m(self)\u001b[0m\n\u001b[0;32m   1116\u001b[0m             \u001b[1;31m# in super class. Turns out that it is defined in _ConvND which is inherited by any class\u001b[0m\u001b[1;33m\u001b[0m\u001b[1;33m\u001b[0m\u001b[1;33m\u001b[0m\u001b[0m\n\u001b[0;32m   1117\u001b[0m             \u001b[1;31m# that also inherits _LazyConvXdMixin\u001b[0m\u001b[1;33m\u001b[0m\u001b[1;33m\u001b[0m\u001b[1;33m\u001b[0m\u001b[0m\n\u001b[1;32m-> 1118\u001b[1;33m             \u001b[0msuper\u001b[0m\u001b[1;33m(\u001b[0m\u001b[1;33m)\u001b[0m\u001b[1;33m.\u001b[0m\u001b[0mreset_parameters\u001b[0m\u001b[1;33m(\u001b[0m\u001b[1;33m)\u001b[0m  \u001b[1;31m# type: ignore[misc]\u001b[0m\u001b[1;33m\u001b[0m\u001b[1;33m\u001b[0m\u001b[0m\n\u001b[0m\u001b[0;32m   1119\u001b[0m \u001b[1;33m\u001b[0m\u001b[0m\n\u001b[0;32m   1120\u001b[0m     \u001b[1;31m# Signature of \"initialize_parameters\" is incompatible with the definition in supertype LazyModuleMixin\u001b[0m\u001b[1;33m\u001b[0m\u001b[1;33m\u001b[0m\u001b[1;33m\u001b[0m\u001b[0m\n",
      "\u001b[1;32m~\\anaconda3\\envs\\pytorch\\lib\\site-packages\\torch\\nn\\modules\\conv.py\u001b[0m in \u001b[0;36mreset_parameters\u001b[1;34m(self)\u001b[0m\n\u001b[0;32m    142\u001b[0m         \u001b[1;31m# uniform(-1/sqrt(k), 1/sqrt(k)), where k = weight.size(1) * prod(*kernel_size)\u001b[0m\u001b[1;33m\u001b[0m\u001b[1;33m\u001b[0m\u001b[1;33m\u001b[0m\u001b[0m\n\u001b[0;32m    143\u001b[0m         \u001b[1;31m# For more details see: https://github.com/pytorch/pytorch/issues/15314#issuecomment-477448573\u001b[0m\u001b[1;33m\u001b[0m\u001b[1;33m\u001b[0m\u001b[1;33m\u001b[0m\u001b[0m\n\u001b[1;32m--> 144\u001b[1;33m         \u001b[0minit\u001b[0m\u001b[1;33m.\u001b[0m\u001b[0mkaiming_uniform_\u001b[0m\u001b[1;33m(\u001b[0m\u001b[0mself\u001b[0m\u001b[1;33m.\u001b[0m\u001b[0mweight\u001b[0m\u001b[1;33m,\u001b[0m \u001b[0ma\u001b[0m\u001b[1;33m=\u001b[0m\u001b[0mmath\u001b[0m\u001b[1;33m.\u001b[0m\u001b[0msqrt\u001b[0m\u001b[1;33m(\u001b[0m\u001b[1;36m5\u001b[0m\u001b[1;33m)\u001b[0m\u001b[1;33m)\u001b[0m\u001b[1;33m\u001b[0m\u001b[1;33m\u001b[0m\u001b[0m\n\u001b[0m\u001b[0;32m    145\u001b[0m         \u001b[1;32mif\u001b[0m \u001b[0mself\u001b[0m\u001b[1;33m.\u001b[0m\u001b[0mbias\u001b[0m \u001b[1;32mis\u001b[0m \u001b[1;32mnot\u001b[0m \u001b[1;32mNone\u001b[0m\u001b[1;33m:\u001b[0m\u001b[1;33m\u001b[0m\u001b[1;33m\u001b[0m\u001b[0m\n\u001b[0;32m    146\u001b[0m             \u001b[0mfan_in\u001b[0m\u001b[1;33m,\u001b[0m \u001b[0m_\u001b[0m \u001b[1;33m=\u001b[0m \u001b[0minit\u001b[0m\u001b[1;33m.\u001b[0m\u001b[0m_calculate_fan_in_and_fan_out\u001b[0m\u001b[1;33m(\u001b[0m\u001b[0mself\u001b[0m\u001b[1;33m.\u001b[0m\u001b[0mweight\u001b[0m\u001b[1;33m)\u001b[0m\u001b[1;33m\u001b[0m\u001b[1;33m\u001b[0m\u001b[0m\n",
      "\u001b[1;32m~\\anaconda3\\envs\\pytorch\\lib\\site-packages\\torch\\nn\\init.py\u001b[0m in \u001b[0;36mkaiming_uniform_\u001b[1;34m(tensor, a, mode, nonlinearity)\u001b[0m\n\u001b[0;32m    393\u001b[0m     \u001b[0mbound\u001b[0m \u001b[1;33m=\u001b[0m \u001b[0mmath\u001b[0m\u001b[1;33m.\u001b[0m\u001b[0msqrt\u001b[0m\u001b[1;33m(\u001b[0m\u001b[1;36m3.0\u001b[0m\u001b[1;33m)\u001b[0m \u001b[1;33m*\u001b[0m \u001b[0mstd\u001b[0m  \u001b[1;31m# Calculate uniform bounds from standard deviation\u001b[0m\u001b[1;33m\u001b[0m\u001b[1;33m\u001b[0m\u001b[0m\n\u001b[0;32m    394\u001b[0m     \u001b[1;32mwith\u001b[0m \u001b[0mtorch\u001b[0m\u001b[1;33m.\u001b[0m\u001b[0mno_grad\u001b[0m\u001b[1;33m(\u001b[0m\u001b[1;33m)\u001b[0m\u001b[1;33m:\u001b[0m\u001b[1;33m\u001b[0m\u001b[1;33m\u001b[0m\u001b[0m\n\u001b[1;32m--> 395\u001b[1;33m         \u001b[1;32mreturn\u001b[0m \u001b[0mtensor\u001b[0m\u001b[1;33m.\u001b[0m\u001b[0muniform_\u001b[0m\u001b[1;33m(\u001b[0m\u001b[1;33m-\u001b[0m\u001b[0mbound\u001b[0m\u001b[1;33m,\u001b[0m \u001b[0mbound\u001b[0m\u001b[1;33m)\u001b[0m\u001b[1;33m\u001b[0m\u001b[1;33m\u001b[0m\u001b[0m\n\u001b[0m\u001b[0;32m    396\u001b[0m \u001b[1;33m\u001b[0m\u001b[0m\n\u001b[0;32m    397\u001b[0m \u001b[1;33m\u001b[0m\u001b[0m\n",
      "\u001b[1;31mKeyboardInterrupt\u001b[0m: "
     ]
    }
   ],
   "source": [
    "## forward pass prova\n",
    "for epoch in range(EPOCHS):\n",
    "    print(f\"EPOCH: {epoch}\")\n",
    "    for (i,(x,y)) in enumerate(train_dataloader):\n",
    "\n",
    "\n",
    "        x=x.to(device)\n",
    "\n",
    "        \n",
    "        z_mean,z_log_var = model.encoder(x)\n",
    "        \n",
    "        \n",
    "        model.q_z = D.normal.Normal(z_mean, torch.exp(0.5 * z_log_var))\n",
    "\n",
    "        device=z_mean.get_device()\n",
    "\n",
    "        # sample z from it\n",
    "        z = model.q_z.rsample()\n",
    "\n",
    "        #z=self.sample(z_mean,z_log_var)\n",
    "\n",
    "        sim=model.compute_similarity(z)\n",
    "\n",
    "    #    sim= z@model.basis.type_as(z)\n",
    "\n",
    "      #  print(f\"shapes z: {z.shape} basis: {model.basis.shape} sim: {sim.shape}\")\n",
    "\n",
    "        ##map each vector into his cluster\n",
    "        cl=sim.argmax(-1)\n",
    "\n",
    "        #print(cl)\n",
    "\n",
    "       # print(f\"cluster {sim[cl==0].shape} -- {sim[cl==0].mean(axis=0).shape}\")\n",
    "\n",
    "        if i%100==0:\n",
    "            print(f\"ECCOLO {i}\\n\\n\")\n",
    "            plt.hist(cl.cpu().numpy())\n",
    "            plt.hist(y.numpy(),alpha=0.6)\n",
    "            plt.show()\n",
    "\n",
    "            #aggiungere mapping\n",
    "            m,a=mapping(cl,y)\n",
    "            print(m)\n",
    "            print(a)\n",
    "\n",
    "        model.z=z\n",
    "        model.z_mean,model.z_log_var=z_mean,z_log_var\n",
    "\n",
    "        # reference N(0,1)\n",
    "        ref_mu = torch.zeros(z.shape[0], z.shape[-1])\n",
    "        ref_sigma = torch.ones(z.shape[0], z.shape[-1])\n",
    "\n",
    "        model.p_z = D.normal.Normal(ref_mu.to(device), ref_sigma.to(device))\n",
    "\n",
    "        \n",
    "        soft_sim=softmax(sim,dim=1)\n",
    "        x2 = model.decoder(z,soft_sim)\n",
    "\n",
    "        \n",
    "\n",
    "        loss, recon_loss, kl_loss = model.compute_loss(x2, x)\n",
    "        \n",
    "        \n",
    "        print(f\"INDICE {i} - Z {z}\")\n",
    "        print(f\"INDICE {i} - SOFT SIM {soft_sim}\")\n",
    "        \n",
    "        print(f\"INDICE {i} - BASIS {model.basis}\")\n",
    "        \n",
    "        print(f\"INDICE {i} - X2 {x2}\")\n",
    "        \n",
    "        \n",
    "        \n",
    "        optimizer.zero_grad()\n",
    "        loss.backward()\n",
    "        optimizer.step()\n",
    "\n",
    "\n",
    "        #print(model.basis)\n",
    "\n",
    "        #update the basis matrix columns according to the mean of the vector that belongs to that cluster\n",
    "        #for i in range(model.n_basis):\n",
    "        #    model.basis[:,i]=z[cl==i].mean(axis=0) ## GUARDARE QUA!\n",
    "\n",
    "\n"
   ]
  },
  {
   "cell_type": "code",
   "execution_count": 14,
   "id": "f6558872",
   "metadata": {},
   "outputs": [
    {
     "name": "stderr",
     "output_type": "stream",
     "text": [
      "Epoch 0:   0%|                                                                              | 0/120 [00:00<?, ?batch/s]C:\\Users\\matte\\AppData\\Local\\Temp/ipykernel_19632/2242563601.py:160: UserWarning: Implicit dimension choice for softmax has been deprecated. Change the call to include dim=X as an argument.\n",
      "  means=self.update_cluster_means(z,softmax(sim))\n",
      "Epoch 0: 100%|████████████████████| 120/120 [00:17<00:00,  7.00batch/s, kl_loss=0.00839, loss=0.0674, recon_loss=0.059]\n",
      "Val 0: 100%|████████████| 20/20 [00:01<00:00, 12.72batch/s, val_kl_loss=0.00839, val_loss=0.0666, val_recon_loss=0.059]\n"
     ]
    },
    {
     "name": "stdout",
     "output_type": "stream",
     "text": [
      "(500, 28, 28, 1) (100, 28, 28, 3)\n"
     ]
    },
    {
     "data": {
      "image/png": "[encoded data removed]",
      "text/plain": [
       "<Figure size 720x288 with 8 Axes>"
      ]
     },
     "metadata": {
      "needs_background": "light"
     },
     "output_type": "display_data"
    },
    {
     "name": "stderr",
     "output_type": "stream",
     "text": [
      "Epoch 1: 100%|████████████████████| 120/120 [00:16<00:00,  7.45batch/s, kl_loss=0.0129, loss=0.0562, recon_loss=0.0432]\n",
      "Val 1: 100%|█████████████| 20/20 [00:01<00:00, 12.60batch/s, val_kl_loss=0.0129, val_loss=0.056, val_recon_loss=0.0432]\n"
     ]
    },
    {
     "name": "stdout",
     "output_type": "stream",
     "text": [
      "(500, 28, 28, 1) (100, 28, 28, 3)\n"
     ]
    },
    {
     "data": {
      "image/png": "[encoded data removed]",
      "text/plain": [
       "<Figure size 720x288 with 8 Axes>"
      ]
     },
     "metadata": {
      "needs_background": "light"
     },
     "output_type": "display_data"
    },
    {
     "name": "stderr",
     "output_type": "stream",
     "text": [
      "Epoch 2: 100%|█████████████████████| 120/120 [00:16<00:00,  7.32batch/s, kl_loss=0.0146, loss=0.0516, recon_loss=0.037]\n",
      "Val 2: 100%|█████████████| 20/20 [00:01<00:00, 12.13batch/s, val_kl_loss=0.0146, val_loss=0.0517, val_recon_loss=0.037]\n"
     ]
    },
    {
     "name": "stdout",
     "output_type": "stream",
     "text": [
      "(500, 28, 28, 1) (100, 28, 28, 3)\n"
     ]
    },
    {
     "data": {
      "image/png": "[encoded data removed]",
      "text/plain": [
       "<Figure size 720x288 with 8 Axes>"
      ]
     },
     "metadata": {
      "needs_background": "light"
     },
     "output_type": "display_data"
    },
    {
     "name": "stderr",
     "output_type": "stream",
     "text": [
      "Epoch 3: 100%|████████████████████| 120/120 [00:16<00:00,  7.31batch/s, kl_loss=0.0158, loss=0.0491, recon_loss=0.0333]\n",
      "Val 3:  85%|██████████▏ | 17/20 [00:01<00:00, 10.31batch/s, val_kl_loss=0.0158, val_loss=0.0499, val_recon_loss=0.0333]\n"
     ]
    },
    {
     "ename": "RuntimeError",
     "evalue": "CUDA out of memory. Tried to allocate 192.00 MiB (GPU 0; 6.00 GiB total capacity; 4.01 GiB already allocated; 0 bytes free; 4.35 GiB reserved in total by PyTorch) If reserved memory is >> allocated memory try setting max_split_size_mb to avoid fragmentation.  See documentation for Memory Management and PYTORCH_CUDA_ALLOC_CONF",
     "output_type": "error",
     "traceback": [
      "\u001b[1;31m---------------------------------------------------------------------------\u001b[0m",
      "\u001b[1;31mRuntimeError\u001b[0m                              Traceback (most recent call last)",
      "\u001b[1;32m~\\AppData\\Local\\Temp/ipykernel_19632/1722472885.py\u001b[0m in \u001b[0;36m<module>\u001b[1;34m\u001b[0m\n\u001b[0;32m      4\u001b[0m \u001b[0mmodel\u001b[0m\u001b[1;33m.\u001b[0m\u001b[0mto\u001b[0m\u001b[1;33m(\u001b[0m\u001b[0mdevice\u001b[0m\u001b[1;33m)\u001b[0m\u001b[1;33m\u001b[0m\u001b[1;33m\u001b[0m\u001b[0m\n\u001b[0;32m      5\u001b[0m \u001b[1;33m\u001b[0m\u001b[0m\n\u001b[1;32m----> 6\u001b[1;33m \u001b[0mmodel\u001b[0m\u001b[1;33m.\u001b[0m\u001b[0mfit\u001b[0m\u001b[1;33m(\u001b[0m\u001b[0mtrain_dataloader\u001b[0m\u001b[1;33m=\u001b[0m\u001b[0mtrain_dataloader\u001b[0m\u001b[1;33m,\u001b[0m\u001b[0mval_dataloader\u001b[0m\u001b[1;33m=\u001b[0m\u001b[0mtest_dataloader\u001b[0m\u001b[1;33m,\u001b[0m\u001b[0mepochs\u001b[0m\u001b[1;33m=\u001b[0m\u001b[1;36m50\u001b[0m\u001b[1;33m,\u001b[0m\u001b[0moptimizer\u001b[0m\u001b[1;33m=\u001b[0m\u001b[0moptimizer\u001b[0m\u001b[1;33m,\u001b[0m\u001b[0mdevice\u001b[0m\u001b[1;33m=\u001b[0m\u001b[0mdevice\u001b[0m\u001b[1;33m,\u001b[0m\u001b[0mwandb_log\u001b[0m\u001b[1;33m=\u001b[0m\u001b[1;32mTrue\u001b[0m\u001b[1;33m,\u001b[0m\u001b[0msave_model\u001b[0m\u001b[1;33m=\u001b[0m\u001b[0mbase_path\u001b[0m\u001b[1;33m,\u001b[0m\u001b[0mearly_stop\u001b[0m\u001b[1;33m=\u001b[0m\u001b[1;36m3\u001b[0m\u001b[1;33m)\u001b[0m\u001b[1;33m\u001b[0m\u001b[1;33m\u001b[0m\u001b[0m\n\u001b[0m",
      "\u001b[1;32m~\\AppData\\Local\\Temp/ipykernel_19632/2242563601.py\u001b[0m in \u001b[0;36mfit\u001b[1;34m(self, train_dataloader, val_dataloader, epochs, optimizer, device, wandb_log, save_model, early_stop)\u001b[0m\n\u001b[0;32m    274\u001b[0m \u001b[1;33m\u001b[0m\u001b[0m\n\u001b[0;32m    275\u001b[0m                         \u001b[1;31m# compute the loss\u001b[0m\u001b[1;33m\u001b[0m\u001b[1;33m\u001b[0m\u001b[1;33m\u001b[0m\u001b[0m\n\u001b[1;32m--> 276\u001b[1;33m                         \u001b[0mx_pred\u001b[0m \u001b[1;33m=\u001b[0m \u001b[0mmodel\u001b[0m\u001b[1;33m(\u001b[0m\u001b[0mx\u001b[0m\u001b[1;33m)\u001b[0m\u001b[1;33m\u001b[0m\u001b[1;33m\u001b[0m\u001b[0m\n\u001b[0m\u001b[0;32m    277\u001b[0m \u001b[1;33m\u001b[0m\u001b[0m\n\u001b[0;32m    278\u001b[0m                         \u001b[0mval_loss\u001b[0m\u001b[1;33m,\u001b[0m \u001b[0mval_recon_loss\u001b[0m\u001b[1;33m,\u001b[0m \u001b[0mval_kl_loss\u001b[0m \u001b[1;33m=\u001b[0m \u001b[0mmodel\u001b[0m\u001b[1;33m.\u001b[0m\u001b[0mcompute_loss\u001b[0m\u001b[1;33m(\u001b[0m\u001b[0mx_pred\u001b[0m\u001b[1;33m,\u001b[0m \u001b[0mx\u001b[0m\u001b[1;33m)\u001b[0m\u001b[1;33m\u001b[0m\u001b[1;33m\u001b[0m\u001b[0m\n",
      "\u001b[1;32m~\\anaconda3\\envs\\pytorch\\lib\\site-packages\\torch\\nn\\modules\\module.py\u001b[0m in \u001b[0;36m_call_impl\u001b[1;34m(self, *input, **kwargs)\u001b[0m\n\u001b[0;32m   1100\u001b[0m         if not (self._backward_hooks or self._forward_hooks or self._forward_pre_hooks or _global_backward_hooks\n\u001b[0;32m   1101\u001b[0m                 or _global_forward_hooks or _global_forward_pre_hooks):\n\u001b[1;32m-> 1102\u001b[1;33m             \u001b[1;32mreturn\u001b[0m \u001b[0mforward_call\u001b[0m\u001b[1;33m(\u001b[0m\u001b[1;33m*\u001b[0m\u001b[0minput\u001b[0m\u001b[1;33m,\u001b[0m \u001b[1;33m**\u001b[0m\u001b[0mkwargs\u001b[0m\u001b[1;33m)\u001b[0m\u001b[1;33m\u001b[0m\u001b[1;33m\u001b[0m\u001b[0m\n\u001b[0m\u001b[0;32m   1103\u001b[0m         \u001b[1;31m# Do not call functions when jit is used\u001b[0m\u001b[1;33m\u001b[0m\u001b[1;33m\u001b[0m\u001b[1;33m\u001b[0m\u001b[0m\n\u001b[0;32m   1104\u001b[0m         \u001b[0mfull_backward_hooks\u001b[0m\u001b[1;33m,\u001b[0m \u001b[0mnon_full_backward_hooks\u001b[0m \u001b[1;33m=\u001b[0m \u001b[1;33m[\u001b[0m\u001b[1;33m]\u001b[0m\u001b[1;33m,\u001b[0m \u001b[1;33m[\u001b[0m\u001b[1;33m]\u001b[0m\u001b[1;33m\u001b[0m\u001b[1;33m\u001b[0m\u001b[0m\n",
      "\u001b[1;32m~\\AppData\\Local\\Temp/ipykernel_19632/2242563601.py\u001b[0m in \u001b[0;36mforward\u001b[1;34m(self, x)\u001b[0m\n\u001b[0;32m    112\u001b[0m \u001b[1;33m\u001b[0m\u001b[0m\n\u001b[0;32m    113\u001b[0m         \u001b[0msoft_sim\u001b[0m\u001b[1;33m=\u001b[0m\u001b[0msoftmax\u001b[0m\u001b[1;33m(\u001b[0m\u001b[0msim\u001b[0m\u001b[1;33m,\u001b[0m\u001b[0mdim\u001b[0m\u001b[1;33m=\u001b[0m\u001b[1;36m1\u001b[0m\u001b[1;33m)\u001b[0m\u001b[1;33m\u001b[0m\u001b[1;33m\u001b[0m\u001b[0m\n\u001b[1;32m--> 114\u001b[1;33m         \u001b[0mx\u001b[0m \u001b[1;33m=\u001b[0m \u001b[0mself\u001b[0m\u001b[1;33m.\u001b[0m\u001b[0mdecoder\u001b[0m\u001b[1;33m(\u001b[0m\u001b[0mz\u001b[0m\u001b[1;33m,\u001b[0m\u001b[0msoft_sim\u001b[0m\u001b[1;33m)\u001b[0m\u001b[1;33m\u001b[0m\u001b[1;33m\u001b[0m\u001b[0m\n\u001b[0m\u001b[0;32m    115\u001b[0m \u001b[1;33m\u001b[0m\u001b[0m\n\u001b[0;32m    116\u001b[0m         \u001b[1;32mreturn\u001b[0m \u001b[0mx\u001b[0m\u001b[1;33m\u001b[0m\u001b[1;33m\u001b[0m\u001b[0m\n",
      "\u001b[1;32m~\\anaconda3\\envs\\pytorch\\lib\\site-packages\\torch\\nn\\modules\\module.py\u001b[0m in \u001b[0;36m_call_impl\u001b[1;34m(self, *input, **kwargs)\u001b[0m\n\u001b[0;32m   1100\u001b[0m         if not (self._backward_hooks or self._forward_hooks or self._forward_pre_hooks or _global_backward_hooks\n\u001b[0;32m   1101\u001b[0m                 or _global_forward_hooks or _global_forward_pre_hooks):\n\u001b[1;32m-> 1102\u001b[1;33m             \u001b[1;32mreturn\u001b[0m \u001b[0mforward_call\u001b[0m\u001b[1;33m(\u001b[0m\u001b[1;33m*\u001b[0m\u001b[0minput\u001b[0m\u001b[1;33m,\u001b[0m \u001b[1;33m**\u001b[0m\u001b[0mkwargs\u001b[0m\u001b[1;33m)\u001b[0m\u001b[1;33m\u001b[0m\u001b[1;33m\u001b[0m\u001b[0m\n\u001b[0m\u001b[0;32m   1103\u001b[0m         \u001b[1;31m# Do not call functions when jit is used\u001b[0m\u001b[1;33m\u001b[0m\u001b[1;33m\u001b[0m\u001b[1;33m\u001b[0m\u001b[0m\n\u001b[0;32m   1104\u001b[0m         \u001b[0mfull_backward_hooks\u001b[0m\u001b[1;33m,\u001b[0m \u001b[0mnon_full_backward_hooks\u001b[0m \u001b[1;33m=\u001b[0m \u001b[1;33m[\u001b[0m\u001b[1;33m]\u001b[0m\u001b[1;33m,\u001b[0m \u001b[1;33m[\u001b[0m\u001b[1;33m]\u001b[0m\u001b[1;33m\u001b[0m\u001b[1;33m\u001b[0m\u001b[0m\n",
      "\u001b[1;32m~\\PycharmProjects\\NeuroGEN_Pytorch\\classes\\Architectures.py\u001b[0m in \u001b[0;36mforward\u001b[1;34m(self, x, c)\u001b[0m\n\u001b[0;32m    694\u001b[0m         \u001b[0mx\u001b[0m\u001b[1;33m=\u001b[0m \u001b[0mtorch\u001b[0m\u001b[1;33m.\u001b[0m\u001b[0mconcat\u001b[0m\u001b[1;33m(\u001b[0m\u001b[1;33m(\u001b[0m\u001b[0mx\u001b[0m\u001b[1;33m,\u001b[0m\u001b[0mc\u001b[0m\u001b[1;33m)\u001b[0m\u001b[1;33m,\u001b[0m\u001b[0maxis\u001b[0m\u001b[1;33m=\u001b[0m\u001b[1;36m1\u001b[0m\u001b[1;33m)\u001b[0m\u001b[1;33m\u001b[0m\u001b[1;33m\u001b[0m\u001b[0m\n\u001b[0;32m    695\u001b[0m         \u001b[1;31m#x = x.view(x.shape[0], -1, self.startDim, self.startDim)\u001b[0m\u001b[1;33m\u001b[0m\u001b[1;33m\u001b[0m\u001b[1;33m\u001b[0m\u001b[0m\n\u001b[1;32m--> 696\u001b[1;33m         \u001b[0mx\u001b[0m \u001b[1;33m=\u001b[0m \u001b[0mself\u001b[0m\u001b[1;33m.\u001b[0m\u001b[0mfeatures\u001b[0m\u001b[1;33m(\u001b[0m\u001b[0mx\u001b[0m\u001b[1;33m)\u001b[0m\u001b[1;33m\u001b[0m\u001b[1;33m\u001b[0m\u001b[0m\n\u001b[0m\u001b[0;32m    697\u001b[0m         \u001b[0mx\u001b[0m \u001b[1;33m=\u001b[0m \u001b[0mself\u001b[0m\u001b[1;33m.\u001b[0m\u001b[0mdecoder_output\u001b[0m\u001b[1;33m(\u001b[0m\u001b[0mx\u001b[0m\u001b[1;33m)\u001b[0m\u001b[1;33m\u001b[0m\u001b[1;33m\u001b[0m\u001b[0m\n\u001b[0;32m    698\u001b[0m         \u001b[0mx\u001b[0m \u001b[1;33m=\u001b[0m \u001b[0mself\u001b[0m\u001b[1;33m.\u001b[0m\u001b[0mactivation\u001b[0m\u001b[1;33m(\u001b[0m\u001b[0mx\u001b[0m\u001b[1;33m)\u001b[0m\u001b[1;33m\u001b[0m\u001b[1;33m\u001b[0m\u001b[0m\n",
      "\u001b[1;32m~\\anaconda3\\envs\\pytorch\\lib\\site-packages\\torch\\nn\\modules\\module.py\u001b[0m in \u001b[0;36m_call_impl\u001b[1;34m(self, *input, **kwargs)\u001b[0m\n\u001b[0;32m   1100\u001b[0m         if not (self._backward_hooks or self._forward_hooks or self._forward_pre_hooks or _global_backward_hooks\n\u001b[0;32m   1101\u001b[0m                 or _global_forward_hooks or _global_forward_pre_hooks):\n\u001b[1;32m-> 1102\u001b[1;33m             \u001b[1;32mreturn\u001b[0m \u001b[0mforward_call\u001b[0m\u001b[1;33m(\u001b[0m\u001b[1;33m*\u001b[0m\u001b[0minput\u001b[0m\u001b[1;33m,\u001b[0m \u001b[1;33m**\u001b[0m\u001b[0mkwargs\u001b[0m\u001b[1;33m)\u001b[0m\u001b[1;33m\u001b[0m\u001b[1;33m\u001b[0m\u001b[0m\n\u001b[0m\u001b[0;32m   1103\u001b[0m         \u001b[1;31m# Do not call functions when jit is used\u001b[0m\u001b[1;33m\u001b[0m\u001b[1;33m\u001b[0m\u001b[1;33m\u001b[0m\u001b[0m\n\u001b[0;32m   1104\u001b[0m         \u001b[0mfull_backward_hooks\u001b[0m\u001b[1;33m,\u001b[0m \u001b[0mnon_full_backward_hooks\u001b[0m \u001b[1;33m=\u001b[0m \u001b[1;33m[\u001b[0m\u001b[1;33m]\u001b[0m\u001b[1;33m,\u001b[0m \u001b[1;33m[\u001b[0m\u001b[1;33m]\u001b[0m\u001b[1;33m\u001b[0m\u001b[1;33m\u001b[0m\u001b[0m\n",
      "\u001b[1;32m~\\anaconda3\\envs\\pytorch\\lib\\site-packages\\torch\\nn\\modules\\container.py\u001b[0m in \u001b[0;36mforward\u001b[1;34m(self, input)\u001b[0m\n\u001b[0;32m    139\u001b[0m     \u001b[1;32mdef\u001b[0m \u001b[0mforward\u001b[0m\u001b[1;33m(\u001b[0m\u001b[0mself\u001b[0m\u001b[1;33m,\u001b[0m \u001b[0minput\u001b[0m\u001b[1;33m)\u001b[0m\u001b[1;33m:\u001b[0m\u001b[1;33m\u001b[0m\u001b[1;33m\u001b[0m\u001b[0m\n\u001b[0;32m    140\u001b[0m         \u001b[1;32mfor\u001b[0m \u001b[0mmodule\u001b[0m \u001b[1;32min\u001b[0m \u001b[0mself\u001b[0m\u001b[1;33m:\u001b[0m\u001b[1;33m\u001b[0m\u001b[1;33m\u001b[0m\u001b[0m\n\u001b[1;32m--> 141\u001b[1;33m             \u001b[0minput\u001b[0m \u001b[1;33m=\u001b[0m \u001b[0mmodule\u001b[0m\u001b[1;33m(\u001b[0m\u001b[0minput\u001b[0m\u001b[1;33m)\u001b[0m\u001b[1;33m\u001b[0m\u001b[1;33m\u001b[0m\u001b[0m\n\u001b[0m\u001b[0;32m    142\u001b[0m         \u001b[1;32mreturn\u001b[0m \u001b[0minput\u001b[0m\u001b[1;33m\u001b[0m\u001b[1;33m\u001b[0m\u001b[0m\n\u001b[0;32m    143\u001b[0m \u001b[1;33m\u001b[0m\u001b[0m\n",
      "\u001b[1;32m~\\anaconda3\\envs\\pytorch\\lib\\site-packages\\torch\\nn\\modules\\module.py\u001b[0m in \u001b[0;36m_call_impl\u001b[1;34m(self, *input, **kwargs)\u001b[0m\n\u001b[0;32m   1100\u001b[0m         if not (self._backward_hooks or self._forward_hooks or self._forward_pre_hooks or _global_backward_hooks\n\u001b[0;32m   1101\u001b[0m                 or _global_forward_hooks or _global_forward_pre_hooks):\n\u001b[1;32m-> 1102\u001b[1;33m             \u001b[1;32mreturn\u001b[0m \u001b[0mforward_call\u001b[0m\u001b[1;33m(\u001b[0m\u001b[1;33m*\u001b[0m\u001b[0minput\u001b[0m\u001b[1;33m,\u001b[0m \u001b[1;33m**\u001b[0m\u001b[0mkwargs\u001b[0m\u001b[1;33m)\u001b[0m\u001b[1;33m\u001b[0m\u001b[1;33m\u001b[0m\u001b[0m\n\u001b[0m\u001b[0;32m   1103\u001b[0m         \u001b[1;31m# Do not call functions when jit is used\u001b[0m\u001b[1;33m\u001b[0m\u001b[1;33m\u001b[0m\u001b[1;33m\u001b[0m\u001b[0m\n\u001b[0;32m   1104\u001b[0m         \u001b[0mfull_backward_hooks\u001b[0m\u001b[1;33m,\u001b[0m \u001b[0mnon_full_backward_hooks\u001b[0m \u001b[1;33m=\u001b[0m \u001b[1;33m[\u001b[0m\u001b[1;33m]\u001b[0m\u001b[1;33m,\u001b[0m \u001b[1;33m[\u001b[0m\u001b[1;33m]\u001b[0m\u001b[1;33m\u001b[0m\u001b[1;33m\u001b[0m\u001b[0m\n",
      "\u001b[1;32m~\\PycharmProjects\\NeuroGEN_Pytorch\\classes\\Architectures.py\u001b[0m in \u001b[0;36mforward\u001b[1;34m(self, x)\u001b[0m\n\u001b[0;32m    162\u001b[0m \u001b[1;33m\u001b[0m\u001b[0m\n\u001b[0;32m    163\u001b[0m         \u001b[0mx\u001b[0m \u001b[1;33m=\u001b[0m \u001b[0mself\u001b[0m\u001b[1;33m.\u001b[0m\u001b[0mconv\u001b[0m\u001b[1;33m(\u001b[0m\u001b[0mx\u001b[0m\u001b[1;33m)\u001b[0m\u001b[1;33m\u001b[0m\u001b[1;33m\u001b[0m\u001b[0m\n\u001b[1;32m--> 164\u001b[1;33m         \u001b[0mx\u001b[0m \u001b[1;33m=\u001b[0m \u001b[0mself\u001b[0m\u001b[1;33m.\u001b[0m\u001b[0mactivation\u001b[0m\u001b[1;33m(\u001b[0m\u001b[0mx\u001b[0m\u001b[1;33m)\u001b[0m\u001b[1;33m\u001b[0m\u001b[1;33m\u001b[0m\u001b[0m\n\u001b[0m\u001b[0;32m    165\u001b[0m         \u001b[1;31m#x = self.upsample(x)\u001b[0m\u001b[1;33m\u001b[0m\u001b[1;33m\u001b[0m\u001b[1;33m\u001b[0m\u001b[0m\n\u001b[0;32m    166\u001b[0m         \u001b[0mx\u001b[0m \u001b[1;33m=\u001b[0m \u001b[0mself\u001b[0m\u001b[1;33m.\u001b[0m\u001b[0mresidual_blocks\u001b[0m\u001b[1;33m(\u001b[0m\u001b[0mx\u001b[0m\u001b[1;33m)\u001b[0m\u001b[1;33m\u001b[0m\u001b[1;33m\u001b[0m\u001b[0m\n",
      "\u001b[1;32m~\\anaconda3\\envs\\pytorch\\lib\\site-packages\\torch\\nn\\modules\\module.py\u001b[0m in \u001b[0;36m_call_impl\u001b[1;34m(self, *input, **kwargs)\u001b[0m\n\u001b[0;32m   1100\u001b[0m         if not (self._backward_hooks or self._forward_hooks or self._forward_pre_hooks or _global_backward_hooks\n\u001b[0;32m   1101\u001b[0m                 or _global_forward_hooks or _global_forward_pre_hooks):\n\u001b[1;32m-> 1102\u001b[1;33m             \u001b[1;32mreturn\u001b[0m \u001b[0mforward_call\u001b[0m\u001b[1;33m(\u001b[0m\u001b[1;33m*\u001b[0m\u001b[0minput\u001b[0m\u001b[1;33m,\u001b[0m \u001b[1;33m**\u001b[0m\u001b[0mkwargs\u001b[0m\u001b[1;33m)\u001b[0m\u001b[1;33m\u001b[0m\u001b[1;33m\u001b[0m\u001b[0m\n\u001b[0m\u001b[0;32m   1103\u001b[0m         \u001b[1;31m# Do not call functions when jit is used\u001b[0m\u001b[1;33m\u001b[0m\u001b[1;33m\u001b[0m\u001b[1;33m\u001b[0m\u001b[0m\n\u001b[0;32m   1104\u001b[0m         \u001b[0mfull_backward_hooks\u001b[0m\u001b[1;33m,\u001b[0m \u001b[0mnon_full_backward_hooks\u001b[0m \u001b[1;33m=\u001b[0m \u001b[1;33m[\u001b[0m\u001b[1;33m]\u001b[0m\u001b[1;33m,\u001b[0m \u001b[1;33m[\u001b[0m\u001b[1;33m]\u001b[0m\u001b[1;33m\u001b[0m\u001b[1;33m\u001b[0m\u001b[0m\n",
      "\u001b[1;32m~\\anaconda3\\envs\\pytorch\\lib\\site-packages\\torch\\nn\\modules\\activation.py\u001b[0m in \u001b[0;36mforward\u001b[1;34m(self, input)\u001b[0m\n\u001b[0;32m   1074\u001b[0m \u001b[1;33m\u001b[0m\u001b[0m\n\u001b[0;32m   1075\u001b[0m     \u001b[1;32mdef\u001b[0m \u001b[0mforward\u001b[0m\u001b[1;33m(\u001b[0m\u001b[0mself\u001b[0m\u001b[1;33m,\u001b[0m \u001b[0minput\u001b[0m\u001b[1;33m:\u001b[0m \u001b[0mTensor\u001b[0m\u001b[1;33m)\u001b[0m \u001b[1;33m->\u001b[0m \u001b[0mTensor\u001b[0m\u001b[1;33m:\u001b[0m\u001b[1;33m\u001b[0m\u001b[1;33m\u001b[0m\u001b[0m\n\u001b[1;32m-> 1076\u001b[1;33m         \u001b[1;32mreturn\u001b[0m \u001b[0mF\u001b[0m\u001b[1;33m.\u001b[0m\u001b[0mprelu\u001b[0m\u001b[1;33m(\u001b[0m\u001b[0minput\u001b[0m\u001b[1;33m,\u001b[0m \u001b[0mself\u001b[0m\u001b[1;33m.\u001b[0m\u001b[0mweight\u001b[0m\u001b[1;33m)\u001b[0m\u001b[1;33m\u001b[0m\u001b[1;33m\u001b[0m\u001b[0m\n\u001b[0m\u001b[0;32m   1077\u001b[0m \u001b[1;33m\u001b[0m\u001b[0m\n\u001b[0;32m   1078\u001b[0m     \u001b[1;32mdef\u001b[0m \u001b[0mextra_repr\u001b[0m\u001b[1;33m(\u001b[0m\u001b[0mself\u001b[0m\u001b[1;33m)\u001b[0m \u001b[1;33m->\u001b[0m \u001b[0mstr\u001b[0m\u001b[1;33m:\u001b[0m\u001b[1;33m\u001b[0m\u001b[1;33m\u001b[0m\u001b[0m\n",
      "\u001b[1;32m~\\anaconda3\\envs\\pytorch\\lib\\site-packages\\torch\\nn\\functional.py\u001b[0m in \u001b[0;36mprelu\u001b[1;34m(input, weight)\u001b[0m\n\u001b[0;32m   1498\u001b[0m     \u001b[1;32mif\u001b[0m \u001b[0mhas_torch_function_unary\u001b[0m\u001b[1;33m(\u001b[0m\u001b[0minput\u001b[0m\u001b[1;33m)\u001b[0m\u001b[1;33m:\u001b[0m\u001b[1;33m\u001b[0m\u001b[1;33m\u001b[0m\u001b[0m\n\u001b[0;32m   1499\u001b[0m         \u001b[1;32mreturn\u001b[0m \u001b[0mhandle_torch_function\u001b[0m\u001b[1;33m(\u001b[0m\u001b[0mprelu\u001b[0m\u001b[1;33m,\u001b[0m \u001b[1;33m(\u001b[0m\u001b[0minput\u001b[0m\u001b[1;33m,\u001b[0m\u001b[1;33m)\u001b[0m\u001b[1;33m,\u001b[0m \u001b[0minput\u001b[0m\u001b[1;33m,\u001b[0m \u001b[0mweight\u001b[0m\u001b[1;33m)\u001b[0m\u001b[1;33m\u001b[0m\u001b[1;33m\u001b[0m\u001b[0m\n\u001b[1;32m-> 1500\u001b[1;33m     \u001b[1;32mreturn\u001b[0m \u001b[0mtorch\u001b[0m\u001b[1;33m.\u001b[0m\u001b[0mprelu\u001b[0m\u001b[1;33m(\u001b[0m\u001b[0minput\u001b[0m\u001b[1;33m,\u001b[0m \u001b[0mweight\u001b[0m\u001b[1;33m)\u001b[0m\u001b[1;33m\u001b[0m\u001b[1;33m\u001b[0m\u001b[0m\n\u001b[0m\u001b[0;32m   1501\u001b[0m \u001b[1;33m\u001b[0m\u001b[0m\n\u001b[0;32m   1502\u001b[0m \u001b[1;33m\u001b[0m\u001b[0m\n",
      "\u001b[1;31mRuntimeError\u001b[0m: CUDA out of memory. Tried to allocate 192.00 MiB (GPU 0; 6.00 GiB total capacity; 4.01 GiB already allocated; 0 bytes free; 4.35 GiB reserved in total by PyTorch) If reserved memory is >> allocated memory try setting max_split_size_mb to avoid fragmentation.  See documentation for Memory Management and PYTORCH_CUDA_ALLOC_CONF"
     ]
    }
   ],
   "source": [
    "\n",
    "#model.load_state_dict(torch.load(r\"models/vae/model.ckp\"))\n",
    "\n",
    "optimizer=torch.optim.Adam(model.parameters(),lr=INIT_LR)\n",
    "model.to(device)\n",
    "\n",
    "model.fit(train_dataloader=train_dataloader,val_dataloader=test_dataloader,epochs=50,optimizer=optimizer,device=device,wandb_log=True,save_model=base_path,early_stop=3)"
   ]
  },
  {
   "cell_type": "code",
   "execution_count": null,
   "id": "197bbfea-6278-4ff7-afed-95fbe1875728",
   "metadata": {},
   "outputs": [],
   "source": [
    "torch.save(model.state_dict(), \"vaesim_prova1.pt\")"
   ]
  },
  {
   "cell_type": "markdown",
   "id": "edd4d45a-9284-41da-b683-6af31dcb319d",
   "metadata": {},
   "source": [
    "## Clustering and mappings \n",
    "\n",
    "\n",
    "1) Use a subset of the training data to infer the final mappings between clusters and labels\n",
    "2) Reconstruct the test dataset with the associate labels\n",
    "3) Inspect the clusters"
   ]
  },
  {
   "cell_type": "code",
   "execution_count": null,
   "id": "e6fd22cd-3cc1-48e2-99c0-c030748ed02c",
   "metadata": {},
   "outputs": [],
   "source": [
    "#model.load_state_dict(torch.load(\"vaesim_prova1.pt\"))\n"
   ]
  },
  {
   "cell_type": "code",
   "execution_count": null,
   "id": "e11e967f-7d4f-478e-b9fa-1cb29931a3a5",
   "metadata": {},
   "outputs": [],
   "source": [
    "\n",
    "with torch.no_grad():\n",
    "\n",
    "    n_semi=2000\n",
    "\n",
    "\n",
    "\n",
    "    stack=[]\n",
    "    labels=[]\n",
    "    for i,data in enumerate(train_dataset):\n",
    "        x,y=data\n",
    "        stack.append(x)\n",
    "        labels.append(y)\n",
    "        if i==n_semi-1:\n",
    "            break\n",
    "\n",
    "\n",
    "    stack=torch.stack(stack).to(device)\n",
    "    labels=torch.Tensor(labels)\n",
    "\n",
    "    ## INFER THE MAPPINGS\n",
    "\n",
    "    z_mean,z_log_var = model.encoder(stack)\n",
    "\n",
    "    model.q_z = D.normal.Normal(z_mean, torch.exp(0.5 * z_log_var))\n",
    "\n",
    "    device=z_mean.get_device()\n",
    "\n",
    "    # sample z from it\n",
    "    z = model.q_z.rsample()\n",
    "\n",
    "    #z=self.sample(z_mean,z_log_var)\n",
    "    \n",
    "    sim=model.compute_similarity(z)\n",
    "\n",
    "    #    sim= z@model.basis.type_as(z)\n",
    "\n",
    "    #  print(f\"shapes z: {z.shape} basis: {model.basis.shape} sim: {sim.shape}\")\n",
    "\n",
    "    ##map each vector into his cluster\n",
    "    cl=sim.argmax(-1)\n",
    "\n",
    "    mappings,accuracy=mapping(cl,labels)"
   ]
  },
  {
   "cell_type": "code",
   "execution_count": null,
   "id": "e4c90988-23df-4b2a-b2f2-4ebb91dea98b",
   "metadata": {},
   "outputs": [],
   "source": [
    "recon=[]\n",
    "y_pred=[]\n",
    "for x,y in test_dataset:\n",
    "    \n",
    "    x_rec,cluster,sim=model.reconstruct_and_cluster(x.unsqueeze(0).to(device))\n",
    "    y_pred=mappings[cluster]\n",
    "    break\n",
    "    "
   ]
  },
  {
   "cell_type": "code",
   "execution_count": null,
   "id": "f372fbd8-8442-4be6-8cf2-f0961a404bf9",
   "metadata": {},
   "outputs": [],
   "source": []
  },
  {
   "cell_type": "code",
   "execution_count": null,
   "id": "6c066c90-9d97-4797-9bfc-ee92218af913",
   "metadata": {},
   "outputs": [],
   "source": []
  }
 ],
 "metadata": {
  "kernelspec": {
   "display_name": "Python 3 (ipykernel)",
   "language": "python",
   "name": "python3"
  },
  "language_info": {
   "codemirror_mode": {
    "name": "ipython",
    "version": 3
   },
   "file_extension": ".py",
   "mimetype": "text/x-python",
   "name": "python",
   "nbconvert_exporter": "python",
   "pygments_lexer": "ipython3",
   "version": "3.8.12"
  }
 },
 "nbformat": 4,
 "nbformat_minor": 5
}
