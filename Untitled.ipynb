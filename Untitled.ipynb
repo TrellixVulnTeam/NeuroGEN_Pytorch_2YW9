{
 "cells": [
  {
   "cell_type": "code",
   "execution_count": 1,
   "id": "7fb544d0-2c20-4425-b885-e07455ae6a20",
   "metadata": {},
   "outputs": [],
   "source": [
    "## prova\n",
    "\n",
    "from utils.utils import *\n",
    "from dall_e import map_pixels, unmap_pixels, load_model\n",
    "\n"
   ]
  },
  {
   "cell_type": "code",
   "execution_count": 2,
   "id": "65322cc7-fde6-4144-b9e8-8a97c9c4c565",
   "metadata": {},
   "outputs": [
    {
     "name": "stdout",
     "output_type": "stream",
     "text": [
      "Working with z of shape (1, 256, 16, 16) = 65536 dimensions.\n",
      "loaded pretrained LPIPS loss from taming/modules/autoencoder/lpips/vgg.pth\n",
      "VQLPIPSWithDiscriminator running with hinge loss.\n"
     ]
    }
   ],
   "source": [
    "config1024=\"taming_transformers/logs/vqgan_imagenet_f16_1024/configs/model.yaml\"\n",
    "model1024 = \"taming_transformers/logs/vqgan_imagenet_f16_1024/checkpoints/last.ckpt\"\n",
    "\n",
    "model=init_vqgan(config1024,model1024)\n"
   ]
  },
  {
   "cell_type": "code",
   "execution_count": 3,
   "id": "0c354512-72ea-415d-bbed-30adeb0acaa2",
   "metadata": {},
   "outputs": [],
   "source": [
    "encoder_dalle = load_model(\"dalle/encoder.pkl\")\n",
    "decoder_dalle = load_model(\"dalle/decoder.pkl\")"
   ]
  },
  {
   "cell_type": "code",
   "execution_count": null,
   "id": "b8f34815-8273-4a5d-b90b-88725cfda395",
   "metadata": {},
   "outputs": [],
   "source": [
    "x_dalle = preprocess(download_image(url), target_image_size=size, map_dalle=True)\n"
   ]
  }
 ],
 "metadata": {
  "kernelspec": {
   "display_name": "Python 3 (ipykernel)",
   "language": "python",
   "name": "python3"
  },
  "language_info": {
   "codemirror_mode": {
    "name": "ipython",
    "version": 3
   },
   "file_extension": ".py",
   "mimetype": "text/x-python",
   "name": "python",
   "nbconvert_exporter": "python",
   "pygments_lexer": "ipython3",
   "version": "3.8.12"
  }
 },
 "nbformat": 4,
 "nbformat_minor": 5
}
